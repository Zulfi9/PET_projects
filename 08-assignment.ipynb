{
 "cells": [
  {
   "attachments": {},
   "cell_type": "markdown",
   "id": "371010e9-2aa2-4315-9f96-491c8d28d0b6",
   "metadata": {},
   "source": [
    "# Задания"
   ]
  },
  {
   "cell_type": "code",
   "execution_count": 1,
   "id": "7c143ef3-357c-4be1-85c5-13b8ca3eba6f",
   "metadata": {},
   "outputs": [],
   "source": [
    "import numpy as np\n",
    "import pandas as pd"
   ]
  },
  {
   "attachments": {},
   "cell_type": "markdown",
   "id": "0bf2c419-407b-4663-9c56-3a2a73b3240b",
   "metadata": {},
   "source": [
    "## Задание 1"
   ]
  },
  {
   "attachments": {},
   "cell_type": "markdown",
   "id": "75b9b5d0-aaf4-4fb1-a9b0-d548e2b92bf3",
   "metadata": {},
   "source": [
    "Загрузи данные о посещениях заведений. В них содержится информация о регистрации пользователя в заведениях \n",
    "и геолокация этих заведений. Очисти данные от записей с пропусками. \\\n",
    "Выведи количество записей после очистки. "
   ]
  },
  {
   "cell_type": "code",
   "execution_count": 2,
   "id": "7436c194-ad3d-4165-a043-33bb11eb51bf",
   "metadata": {},
   "outputs": [],
   "source": [
    "# Считываем файл с инфой о посещениях как таблицу, разделитль черточка, удаляем все лишние начальные пробелы, для строк, где нет значений широты и долготы меняем параметр на Nan\n",
    "df = pd.read_table('../datasets/checkins.dat', sep = '|', low_memory = False, skipinitialspace=True, na_values = '')"
   ]
  },
  {
   "cell_type": "code",
   "execution_count": 3,
   "id": "d2305007",
   "metadata": {},
   "outputs": [
    {
     "data": {
      "text/plain": [
       "Index(['id    ', 'user_id ', 'venue_id ', 'latitude      ', 'longitude     ',\n",
       "       'created_at      '],\n",
       "      dtype='object')"
      ]
     },
     "execution_count": 3,
     "metadata": {},
     "output_type": "execute_result"
    }
   ],
   "source": [
    "### Проверяем заголовки столбцов таблиц\n",
    "df.columns"
   ]
  },
  {
   "cell_type": "code",
   "execution_count": 4,
   "id": "d1ae21a2",
   "metadata": {},
   "outputs": [
    {
     "data": {
      "text/plain": [
       "Index(['id', 'user_id', 'venue_id', 'latitude', 'longitude', 'created_at'], dtype='object')"
      ]
     },
     "execution_count": 4,
     "metadata": {},
     "output_type": "execute_result"
    }
   ],
   "source": [
    "### Удаляем лишние пробелы из названий столбцов таблицы (после названия)\n",
    "df.columns = [name.strip() for name in df.columns]\n",
    "df.columns"
   ]
  },
  {
   "cell_type": "code",
   "execution_count": 5,
   "id": "0cb9e9d5",
   "metadata": {},
   "outputs": [
    {
     "data": {
      "text/plain": [
       "<bound method NDFrame.head of                                                         id    user_id   \n",
       "0        ---------+---------+----------+---------------...        NaN  \\\n",
       "1                                                  984301   2041916.0   \n",
       "2                                                  984222     15824.0   \n",
       "3                                                  984315   1764391.0   \n",
       "4                                                  984234     44652.0   \n",
       "...                                                    ...        ...   \n",
       "1021963                                            956119   1139114.0   \n",
       "1021964                                            956447   2088020.0   \n",
       "1021965                                            956733    960666.0   \n",
       "1021966                                            957139   1771518.0   \n",
       "1021967                                     (1021966 rows)        NaN   \n",
       "\n",
       "         venue_id   latitude  longitude           created_at  \n",
       "0             NaN        NaN        NaN                  NaN  \n",
       "1          5222.0        NaN        NaN  2012-04-21 17:39:01  \n",
       "2          5222.0  38.895112 -77.036366  2012-04-21 17:43:47  \n",
       "3          5222.0        NaN        NaN  2012-04-21 17:37:18  \n",
       "4          5222.0  33.800745 -84.410520  2012-04-21 17:43:43  \n",
       "...           ...        ...        ...                  ...  \n",
       "1021963   29488.0  42.439479 -83.743830  2012-04-13 11:36:44  \n",
       "1021964    4432.0        NaN        NaN  2012-04-13 12:58:05  \n",
       "1021965      60.0  42.331427 -83.045754  2012-04-13 21:56:19  \n",
       "1021966   10935.0        NaN        NaN  2012-04-14 02:44:52  \n",
       "1021967       NaN        NaN        NaN                  NaN  \n",
       "\n",
       "[1021968 rows x 6 columns]>"
      ]
     },
     "execution_count": 5,
     "metadata": {},
     "output_type": "execute_result"
    }
   ],
   "source": [
    "### Посморим, как выглядит таблица. Видим, что есть лишняя строка и значения координат NaN\n",
    "df.head"
   ]
  },
  {
   "cell_type": "code",
   "execution_count": 6,
   "id": "8b14f2e9",
   "metadata": {},
   "outputs": [
    {
     "data": {
      "text/plain": [
       "<bound method NDFrame.head of               id    user_id  venue_id   latitude   longitude   \n",
       "2        984222     15824.0    5222.0  38.895112  -77.036366  \\\n",
       "4        984234     44652.0    5222.0  33.800745  -84.410520   \n",
       "8        984291    105054.0    5222.0  45.523452 -122.676207   \n",
       "10       984318   2146539.0    5222.0  40.764462 -111.904565   \n",
       "11       984232     93870.0  380645.0  33.448377 -112.074037   \n",
       "...          ...        ...       ...        ...         ...   \n",
       "1021960  955561    626076.0   20073.0  40.850100  -73.866246   \n",
       "1021961  955892    674797.0    2297.0  33.748995  -84.387982   \n",
       "1021962  956377    845102.0   11195.0  42.765366  -71.467566   \n",
       "1021963  956119   1139114.0   29488.0  42.439479  -83.743830   \n",
       "1021965  956733    960666.0      60.0  42.331427  -83.045754   \n",
       "\n",
       "                  created_at  \n",
       "2        2012-04-21 17:43:47  \n",
       "4        2012-04-21 17:43:43  \n",
       "8        2012-04-21 17:39:22  \n",
       "10       2012-04-21 17:35:46  \n",
       "11       2012-04-21 17:38:18  \n",
       "...                      ...  \n",
       "1021960  2012-04-13 09:56:48  \n",
       "1021961  2012-04-13 10:56:03  \n",
       "1021962  2012-04-13 12:08:45  \n",
       "1021963  2012-04-13 11:36:44  \n",
       "1021965  2012-04-13 21:56:19  \n",
       "\n",
       "[396634 rows x 6 columns]>"
      ]
     },
     "execution_count": 6,
     "metadata": {},
     "output_type": "execute_result"
    }
   ],
   "source": [
    "df.dropna(inplace=True)\n",
    "df.head"
   ]
  },
  {
   "cell_type": "code",
   "execution_count": 7,
   "id": "24703b57",
   "metadata": {},
   "outputs": [
    {
     "name": "stdout",
     "output_type": "stream",
     "text": [
      "Количество записей после очистки =  396634\n"
     ]
    }
   ],
   "source": [
    "print ('Количество записей после очистки = ', df.shape[0])"
   ]
  },
  {
   "attachments": {},
   "cell_type": "markdown",
   "id": "e8752027-47e6-47f0-9bba-144fba13ef11",
   "metadata": {},
   "source": []
  },
  {
   "attachments": {},
   "cell_type": "markdown",
   "id": "5446bbf1",
   "metadata": {},
   "source": []
  },
  {
   "attachments": {},
   "cell_type": "markdown",
   "id": "75950037",
   "metadata": {},
   "source": []
  },
  {
   "attachments": {},
   "cell_type": "markdown",
   "id": "5a405a7e",
   "metadata": {},
   "source": []
  },
  {
   "attachments": {},
   "cell_type": "markdown",
   "id": "2d01c421",
   "metadata": {},
   "source": [
    "## Задание 2"
   ]
  },
  {
   "attachments": {},
   "cell_type": "markdown",
   "id": "f104cf4e-eeb1-4cc3-af59-f400050f1541",
   "metadata": {},
   "source": [
    "Эти данные содержат информацию о заведениях со всего мира. С помощью геолокаций и библиотеки [Reverse Geocoder](https://github.com/thampiman/reverse-geocoder),\n",
    "узнай страну для каждой геопозиции. \\\n",
    "Узнай **название** второй страны по количеству записей."
   ]
  },
  {
   "cell_type": "code",
   "execution_count": 8,
   "id": "fcac0562-4d3e-4bfb-b3c8-354c20f7bc5f",
   "metadata": {},
   "outputs": [
    {
     "name": "stdout",
     "output_type": "stream",
     "text": [
      "Loading formatted geocoded file...\n",
      "Вторая страна по количеству записей - это Индонезия\n"
     ]
    }
   ],
   "source": [
    "# Код тут\n",
    "import reverse_geocoder as rg\n",
    "import gettext\n",
    "import pycountry\n",
    "\n",
    "## Функция, которая по коду страны возвращает название стран и переводит его на руусский язык\n",
    "def get_country(code):\n",
    "    ru = pycountry.countries.get(alpha_2=code)\n",
    "    if not ru is None:\n",
    "        return russian.gettext(ru.name)\n",
    "\n",
    "\n",
    "## Подклчаем русский язык\n",
    "russian = gettext.translation(\n",
    "    'iso3166', pycountry.LOCALES_DIR, languages = ['ru'])\n",
    "russian.install\n",
    "\n",
    "## обрабаттываем датафрейм, на каждое значение возвращаем название страны, делаем подсчет с сортировкой по убыванию и выводим вторую страну\n",
    "df['country'] = [get_country(y.get('cc')) for y in rg.search(\n",
    "        [tuple(x) for x in df[['latitude', 'longitude']].to_numpy()])]\n",
    "#df['country'].value_counts()\n",
    "\n",
    "print('Вторая страна по количеству записей - это', df['country'].value_counts().index[1])\n"
   ]
  },
  {
   "attachments": {},
   "cell_type": "markdown",
   "id": "2a6b7cf6",
   "metadata": {},
   "source": []
  },
  {
   "attachments": {},
   "cell_type": "markdown",
   "id": "a7769b9b-67ab-4e12-b097-97bffcdea5aa",
   "metadata": {},
   "source": [
    "## Задание 3"
   ]
  },
  {
   "attachments": {},
   "cell_type": "markdown",
   "id": "085620a7-1d14-4b40-a879-3665c6bfd9b8",
   "metadata": {},
   "source": [
    "Нас будут интересовать только американские локации. Очисти данные от локаций, находящихся в других странах. \n",
    "Также, чтобы сократить количество, геолокаций оставь в выборке только 50 самых часто встречаемых заведений (venue). \\\n",
    "Выведи количество локаций, оставшихся после этих очисток."
   ]
  },
  {
   "cell_type": "code",
   "execution_count": 9,
   "id": "6c518747-725a-48ed-b390-bc3c15977297",
   "metadata": {},
   "outputs": [
    {
     "name": "stdout",
     "output_type": "stream",
     "text": [
      "Количество оставшихся локаций: 162099\n"
     ]
    }
   ],
   "source": [
    "## Делаем отбор по странеи США\n",
    "df1 = df[df.country == 'Соединённые штаты'].copy()\n",
    "\n",
    "## Сохраняю выборку из 50 самых часто встречаемых локаций\n",
    "top50 = df1.venue_id.value_counts().index[:50].to_list()\n",
    "\n",
    "## Считаем количество локаций, оставшихся после чисток\n",
    "df1.query('venue_id in @top50', inplace = True)\n",
    "print('Количество оставшихся локаций:', df1.shape[0])"
   ]
  },
  {
   "attachments": {},
   "cell_type": "markdown",
   "id": "63857f92-61aa-49e9-b503-ffdcb3cf24c2",
   "metadata": {},
   "source": [
    "## Задание 4"
   ]
  },
  {
   "attachments": {},
   "cell_type": "markdown",
   "metadata": {},
   "source": [
    "Перейдем к задаче кластеризации. Воспользуйся алгоритмом [Mean Shift](https://scikit-learn.org/stable/modules/clustering.html#mean-shift)\n",
    "для кластеризации локаций. Параметрами укажи `MeanShift(bandwidth=0.1, bin_seeding=True)`. \n",
    "\n",
    "    `bandwidth=0.1` - это ширина ядра кластеризации. Для средних широт США - это порядка 5-10 км. \n",
    "    `bin_seeding=True` - для ускорения работы алгоритма.\n",
    "    \n",
    "Выведи количество кластеров, которые у тебя получились в результате кластеризации."
   ]
  },
  {
   "cell_type": "code",
   "execution_count": 10,
   "id": "f1f1302b-fe64-49d4-bdc7-7bd547d5dd6a",
   "metadata": {},
   "outputs": [
    {
     "name": "stdout",
     "output_type": "stream",
     "text": [
      "Количество кластеров =  2846\n"
     ]
    }
   ],
   "source": [
    "# Код тут\n",
    "from sklearn.cluster import MeanShift\n",
    "ms = MeanShift(bandwidth=0.1, bin_seeding=True).fit(\n",
    "    df1[['latitude', 'longitude']])\n",
    "print('Количество кластеров = ', len(ms.cluster_centers_))"
   ]
  },
  {
   "attachments": {},
   "cell_type": "markdown",
   "id": "5527ab7b-7cc4-496d-af6c-36ad3f1bcb54",
   "metadata": {},
   "source": [
    "## Задание 5"
   ]
  },
  {
   "attachments": {},
   "cell_type": "markdown",
   "id": "7c7ece37-8a85-4977-9390-b17787e8c9d6",
   "metadata": {},
   "source": [
    "Центры полученных кластеров - это потенциальные места установки банеров компании. Теперь хотелось бы найти те центры кластеров, \n",
    "которые наиболее близко находятся к офисам продаж компании. \\\n",
    "Загрузи [данные по координатам офисов компании](datasets/offices.csv). Для каждого офиса найди 5 самых ближайших к нему центров кластеров. \n",
    "(Пренебрежем тем, что Земля круглая и рассчитаем Евклидово расстояние).\n",
    "У компании 11 офисов, значит у нас должно получится 55 мест установки баннеров. \\\n",
    "Выведи координаты установки баннера, который ближе всего находится к офису компании."
   ]
  },
  {
   "cell_type": "code",
   "execution_count": 11,
   "id": "d2c8ad48-240e-4fab-8699-9c6aa1829700",
   "metadata": {},
   "outputs": [
    {
     "name": "stdout",
     "output_type": "stream",
     "text": [
      "Ближе всего к офису № 10 находится баннер с координатами:\n",
      "lat:32.78531777579914, lot:-79.92474241187222\n"
     ]
    }
   ],
   "source": [
    "# Бинарный поиск (артеллериская вилка) в 8 раз быстрее. Поиск в виде KDTree - трехмерное бинарное дерево. Каждые две координаты переводим в три координаты и осуществяем трехмерный поиск, он быстрее\n",
    "\n",
    "import scipy.spatial as spatial\n",
    "from math import radians, cos, sin, asin, sqrt\n",
    "\n",
    "R = 6367 # радиус Земли в км в одном радиане\n",
    "\n",
    "## Создаем датарейм, который содержит наши 50 кластеров из прошлого задания\n",
    "df_centers = pd.DataFrame(ms.cluster_centers_.tolist(),\n",
    "                          columns=['latitude', 'longitude'])\n",
    "\n",
    "##Перводим координаты широты и долготы в новые трехмерные координаты\n",
    "phi = np.deg2rad(df_centers['latitude'])\n",
    "theta = np.deg2rad(df_centers['longitude'])\n",
    "df_centers['x'] = R * np.cos(phi)*np.cos(theta)\n",
    "df_centers['y'] = R * np.cos(phi)*np.sin(theta)\n",
    "df_centers['z'] = R * np.cos(phi)\n",
    "\n",
    "\n",
    "df_offices = pd.read_csv('../datasets/offices.csv', index_col=0)\n",
    "phi = np.deg2rad(df_offices['latitude'])\n",
    "theta = np.deg2rad(df_offices['longitude'])\n",
    "df_offices['x'] = R * np.cos(phi)*np.cos(theta)\n",
    "df_offices['y'] = R * np.cos(phi)*np.sin(theta)\n",
    "df_offices['z'] = R * np.cos(phi)\n",
    "\n",
    "##Создаем дерево и делаем к нему запросы на олучение пяти ближайших точек из дерева\n",
    "tree = spatial.KDTree(df_centers[['x', 'y', 'z']])\n",
    "distance, index = tree.query(df_offices[['x', 'y', 'z']], k=5)\n",
    "nearest = np.unravel_index(distance.argmin(), distance.shape)[0] + 1\n",
    "lat_nearest, lon_nearest = df_centers[['latitude', 'longitude']\n",
    "                                      ].loc[index[np.unravel_index(distance.argmin(), distance.shape)]]\n",
    "print('Ближе всего к офису № {} находится баннер с координатами:\\nlat:{}, lot:{}'.\n",
    "      format(nearest, lat_nearest, lon_nearest))\n"
   ]
  },
  {
   "attachments": {},
   "cell_type": "markdown",
   "id": "d250c2ef-51a3-4fe8-98ca-b395d8e168ca",
   "metadata": {
    "tags": []
   },
   "source": [
    "## Задание 6"
   ]
  },
  {
   "attachments": {},
   "cell_type": "markdown",
   "id": "bd639f7b-3d62-4e59-9522-77d44f866891",
   "metadata": {},
   "source": [
    "С помощью функции [scatter_mapbox](https://plotly.github.io/plotly.py-docs/generated/plotly.express.scatter_mapbox.html) \n",
    "отметь точки установки баннеров. У тебя должна получится такая картинка.\n",
    "Цветом точки укажи к какому офису будет относиться этот баннер. \n",
    ">Цвет легенды может отличаться от референса"
   ]
  },
  {
   "attachments": {},
   "cell_type": "markdown",
   "id": "b771dbde-ab74-4024-af65-7abdb02af605",
   "metadata": {},
   "source": [
    "<center><img src=\"../misc/images/task_6.png\" width=\"800\" height=\"800\"/> <center/>"
   ]
  },
  {
   "cell_type": "code",
   "execution_count": 12,
   "id": "bcaa76d6-b504-4f71-981d-5c23579a8013",
   "metadata": {},
   "outputs": [
    {
     "data": {
      "application/vnd.plotly.v1+json": {
       "config": {
        "plotlyServerURL": "https://plot.ly"
       },
       "data": [
        {
         "hovertemplate": "office=0<br>latitude=%{lat}<br>longitude=%{lon}<extra></extra>",
         "lat": [
          37.68804315672593,
          37.80416010605057,
          37.928434420481885,
          37.54512748476938,
          37.69260137500005
         ],
         "legendgroup": "0",
         "lon": [
          -122.4091421870596,
          -122.26813796504084,
          -122.52352486325269,
          -122.30069530092258,
          -122.09486588728804
         ],
         "marker": {
          "color": "#636efa"
         },
         "mode": "markers",
         "name": "0",
         "showlegend": true,
         "subplot": "mapbox",
         "type": "scattermapbox"
        },
        {
         "hovertemplate": "office=1<br>latitude=%{lat}<br>longitude=%{lon}<extra></extra>",
         "lat": [
          34.18768865305686,
          34.19901751461786,
          34.392006145454594,
          34.124190013703675,
          34.03259501432132
         ],
         "legendgroup": "1",
         "lon": [
          -118.44880518275103,
          -118.55441576777461,
          -118.54976483909066,
          -118.34644844027598,
          -118.43918429626308
         ],
         "marker": {
          "color": "#EF553B"
         },
         "mode": "markers",
         "name": "1",
         "showlegend": true,
         "subplot": "mapbox",
         "type": "scattermapbox"
        },
        {
         "hovertemplate": "office=2<br>latitude=%{lat}<br>longitude=%{lon}<extra></extra>",
         "lat": [
          33.80980562408899,
          33.90736367348494,
          33.87300538551121,
          33.64122240583737,
          34.059346408337014
         ],
         "legendgroup": "2",
         "lon": [
          -118.14497105040418,
          -118.05538166969714,
          -118.37128393699788,
          -117.9440485963136,
          -118.24841901551954
         ],
         "marker": {
          "color": "#00cc96"
         },
         "mode": "markers",
         "name": "2",
         "showlegend": true,
         "subplot": "mapbox",
         "type": "scattermapbox"
        },
        {
         "hovertemplate": "office=3<br>latitude=%{lat}<br>longitude=%{lon}<extra></extra>",
         "lat": [
          32.715962853674256,
          32.78995149183675,
          32.981146362152884,
          33.01187904141415,
          33.128803522826104
         ],
         "legendgroup": "3",
         "lon": [
          -117.15819696624045,
          -116.98785069591843,
          -117.0783101094478,
          -117.27841119292941,
          -117.12284171739142
         ],
         "marker": {
          "color": "#ab63fa"
         },
         "mode": "markers",
         "name": "3",
         "showlegend": true,
         "subplot": "mapbox",
         "type": "scattermapbox"
        },
        {
         "hovertemplate": "office=4<br>latitude=%{lat}<br>longitude=%{lon}<extra></extra>",
         "lat": [
          29.3013479,
          29.420566,
          29.53663335,
          29.6890241,
          29.4238472
         ],
         "legendgroup": "4",
         "lon": [
          -94.79769579999999,
          -94.92420136000001,
          -95.08341670833329,
          -95.00539099999999,
          -95.2441009
         ],
         "marker": {
          "color": "#FFA15A"
         },
         "mode": "markers",
         "name": "4",
         "showlegend": true,
         "subplot": "mapbox",
         "type": "scattermapbox"
        },
        {
         "hovertemplate": "office=5<br>latitude=%{lat}<br>longitude=%{lon}<extra></extra>",
         "lat": [
          30.694356599999995,
          30.6035255,
          30.5476941,
          30.8829628,
          30.4065868
         ],
         "legendgroup": "5",
         "lon": [
          -88.04305410000002,
          -87.9036047,
          -88.1752796,
          -87.7730474,
          -87.6835974
         ],
         "marker": {
          "color": "#19d3f3"
         },
         "mode": "markers",
         "name": "5",
         "showlegend": true,
         "subplot": "mapbox",
         "type": "scattermapbox"
        },
        {
         "hovertemplate": "office=6<br>latitude=%{lat}<br>longitude=%{lon}<extra></extra>",
         "lat": [
          27.949460812240474,
          27.746973450000002,
          27.920829383783826,
          28.18526993095238,
          28.18041956285714
         ],
         "legendgroup": "6",
         "lon": [
          -82.46497055591384,
          -82.4203715,
          -82.28640781891897,
          -82.40535330714285,
          -82.50638705999995
         ],
         "marker": {
          "color": "#FF6692"
         },
         "mode": "markers",
         "name": "6",
         "showlegend": true,
         "subplot": "mapbox",
         "type": "scattermapbox"
        },
        {
         "hovertemplate": "office=7<br>latitude=%{lat}<br>longitude=%{lon}<extra></extra>",
         "lat": [
          25.78698590071344,
          26.005261301242115,
          25.846584911904795,
          26.122962019550084,
          26.19079045705527
         ],
         "legendgroup": "7",
         "lon": [
          -80.21855931584689,
          -80.21103303105617,
          -80.3126238940477,
          -80.16050044515634,
          -80.24703370245388
         ],
         "marker": {
          "color": "#B6E880"
         },
         "mode": "markers",
         "name": "7",
         "showlegend": true,
         "subplot": "mapbox",
         "type": "scattermapbox"
        },
        {
         "hovertemplate": "office=8<br>latitude=%{lat}<br>longitude=%{lon}<extra></extra>",
         "lat": [
          30.33243195694452,
          30.277710062500002,
          30.160508138888886,
          30.664292787500003,
          30.045598283333334
         ],
         "legendgroup": "8",
         "lon": [
          -81.65492676666666,
          -81.39393922499998,
          -81.70538034444442,
          -81.46237491250001,
          -81.68569341666667
         ],
         "marker": {
          "color": "#FF97FF"
         },
         "mode": "markers",
         "name": "8",
         "showlegend": true,
         "subplot": "mapbox",
         "type": "scattermapbox"
        },
        {
         "hovertemplate": "office=9<br>latitude=%{lat}<br>longitude=%{lon}<extra></extra>",
         "lat": [
          32.78531777579914,
          32.67952435,
          32.9810059,
          32.60823729999999,
          33.01850389999999
         ],
         "legendgroup": "9",
         "lon": [
          -79.92474241187222,
          -79.98575185,
          -80.0325867,
          -80.08481659999998,
          -80.1756481
         ],
         "marker": {
          "color": "#FECB52"
         },
         "mode": "markers",
         "name": "9",
         "showlegend": true,
         "subplot": "mapbox",
         "type": "scattermapbox"
        },
        {
         "hovertemplate": "office=10<br>latitude=%{lat}<br>longitude=%{lon}<extra></extra>",
         "lat": [
          39.28729392569308,
          39.194447474999954,
          39.354321202499975,
          39.42022647352941,
          39.07596327290643
         ],
         "legendgroup": "10",
         "lon": [
          -76.6134932840785,
          -76.67865593235311,
          -76.47229520250005,
          -76.6925704352943,
          -76.64914884975383
         ],
         "marker": {
          "color": "#636efa"
         },
         "mode": "markers",
         "name": "10",
         "showlegend": true,
         "subplot": "mapbox",
         "type": "scattermapbox"
        }
       ],
       "layout": {
        "height": 800,
        "legend": {
         "title": {
          "text": "office"
         },
         "tracegroupgap": 0
        },
        "mapbox": {
         "center": {
          "lat": 32.28799664614982,
          "lon": -96.35278824201052
         },
         "domain": {
          "x": [
           0,
           1
          ],
          "y": [
           0,
           1
          ]
         },
         "style": "open-street-map",
         "zoom": 2.9
        },
        "margin": {
         "t": 60
        },
        "template": {
         "data": {
          "bar": [
           {
            "error_x": {
             "color": "#2a3f5f"
            },
            "error_y": {
             "color": "#2a3f5f"
            },
            "marker": {
             "line": {
              "color": "#E5ECF6",
              "width": 0.5
             },
             "pattern": {
              "fillmode": "overlay",
              "size": 10,
              "solidity": 0.2
             }
            },
            "type": "bar"
           }
          ],
          "barpolar": [
           {
            "marker": {
             "line": {
              "color": "#E5ECF6",
              "width": 0.5
             },
             "pattern": {
              "fillmode": "overlay",
              "size": 10,
              "solidity": 0.2
             }
            },
            "type": "barpolar"
           }
          ],
          "carpet": [
           {
            "aaxis": {
             "endlinecolor": "#2a3f5f",
             "gridcolor": "white",
             "linecolor": "white",
             "minorgridcolor": "white",
             "startlinecolor": "#2a3f5f"
            },
            "baxis": {
             "endlinecolor": "#2a3f5f",
             "gridcolor": "white",
             "linecolor": "white",
             "minorgridcolor": "white",
             "startlinecolor": "#2a3f5f"
            },
            "type": "carpet"
           }
          ],
          "choropleth": [
           {
            "colorbar": {
             "outlinewidth": 0,
             "ticks": ""
            },
            "type": "choropleth"
           }
          ],
          "contour": [
           {
            "colorbar": {
             "outlinewidth": 0,
             "ticks": ""
            },
            "colorscale": [
             [
              0,
              "#0d0887"
             ],
             [
              0.1111111111111111,
              "#46039f"
             ],
             [
              0.2222222222222222,
              "#7201a8"
             ],
             [
              0.3333333333333333,
              "#9c179e"
             ],
             [
              0.4444444444444444,
              "#bd3786"
             ],
             [
              0.5555555555555556,
              "#d8576b"
             ],
             [
              0.6666666666666666,
              "#ed7953"
             ],
             [
              0.7777777777777778,
              "#fb9f3a"
             ],
             [
              0.8888888888888888,
              "#fdca26"
             ],
             [
              1,
              "#f0f921"
             ]
            ],
            "type": "contour"
           }
          ],
          "contourcarpet": [
           {
            "colorbar": {
             "outlinewidth": 0,
             "ticks": ""
            },
            "type": "contourcarpet"
           }
          ],
          "heatmap": [
           {
            "colorbar": {
             "outlinewidth": 0,
             "ticks": ""
            },
            "colorscale": [
             [
              0,
              "#0d0887"
             ],
             [
              0.1111111111111111,
              "#46039f"
             ],
             [
              0.2222222222222222,
              "#7201a8"
             ],
             [
              0.3333333333333333,
              "#9c179e"
             ],
             [
              0.4444444444444444,
              "#bd3786"
             ],
             [
              0.5555555555555556,
              "#d8576b"
             ],
             [
              0.6666666666666666,
              "#ed7953"
             ],
             [
              0.7777777777777778,
              "#fb9f3a"
             ],
             [
              0.8888888888888888,
              "#fdca26"
             ],
             [
              1,
              "#f0f921"
             ]
            ],
            "type": "heatmap"
           }
          ],
          "heatmapgl": [
           {
            "colorbar": {
             "outlinewidth": 0,
             "ticks": ""
            },
            "colorscale": [
             [
              0,
              "#0d0887"
             ],
             [
              0.1111111111111111,
              "#46039f"
             ],
             [
              0.2222222222222222,
              "#7201a8"
             ],
             [
              0.3333333333333333,
              "#9c179e"
             ],
             [
              0.4444444444444444,
              "#bd3786"
             ],
             [
              0.5555555555555556,
              "#d8576b"
             ],
             [
              0.6666666666666666,
              "#ed7953"
             ],
             [
              0.7777777777777778,
              "#fb9f3a"
             ],
             [
              0.8888888888888888,
              "#fdca26"
             ],
             [
              1,
              "#f0f921"
             ]
            ],
            "type": "heatmapgl"
           }
          ],
          "histogram": [
           {
            "marker": {
             "pattern": {
              "fillmode": "overlay",
              "size": 10,
              "solidity": 0.2
             }
            },
            "type": "histogram"
           }
          ],
          "histogram2d": [
           {
            "colorbar": {
             "outlinewidth": 0,
             "ticks": ""
            },
            "colorscale": [
             [
              0,
              "#0d0887"
             ],
             [
              0.1111111111111111,
              "#46039f"
             ],
             [
              0.2222222222222222,
              "#7201a8"
             ],
             [
              0.3333333333333333,
              "#9c179e"
             ],
             [
              0.4444444444444444,
              "#bd3786"
             ],
             [
              0.5555555555555556,
              "#d8576b"
             ],
             [
              0.6666666666666666,
              "#ed7953"
             ],
             [
              0.7777777777777778,
              "#fb9f3a"
             ],
             [
              0.8888888888888888,
              "#fdca26"
             ],
             [
              1,
              "#f0f921"
             ]
            ],
            "type": "histogram2d"
           }
          ],
          "histogram2dcontour": [
           {
            "colorbar": {
             "outlinewidth": 0,
             "ticks": ""
            },
            "colorscale": [
             [
              0,
              "#0d0887"
             ],
             [
              0.1111111111111111,
              "#46039f"
             ],
             [
              0.2222222222222222,
              "#7201a8"
             ],
             [
              0.3333333333333333,
              "#9c179e"
             ],
             [
              0.4444444444444444,
              "#bd3786"
             ],
             [
              0.5555555555555556,
              "#d8576b"
             ],
             [
              0.6666666666666666,
              "#ed7953"
             ],
             [
              0.7777777777777778,
              "#fb9f3a"
             ],
             [
              0.8888888888888888,
              "#fdca26"
             ],
             [
              1,
              "#f0f921"
             ]
            ],
            "type": "histogram2dcontour"
           }
          ],
          "mesh3d": [
           {
            "colorbar": {
             "outlinewidth": 0,
             "ticks": ""
            },
            "type": "mesh3d"
           }
          ],
          "parcoords": [
           {
            "line": {
             "colorbar": {
              "outlinewidth": 0,
              "ticks": ""
             }
            },
            "type": "parcoords"
           }
          ],
          "pie": [
           {
            "automargin": true,
            "type": "pie"
           }
          ],
          "scatter": [
           {
            "fillpattern": {
             "fillmode": "overlay",
             "size": 10,
             "solidity": 0.2
            },
            "type": "scatter"
           }
          ],
          "scatter3d": [
           {
            "line": {
             "colorbar": {
              "outlinewidth": 0,
              "ticks": ""
             }
            },
            "marker": {
             "colorbar": {
              "outlinewidth": 0,
              "ticks": ""
             }
            },
            "type": "scatter3d"
           }
          ],
          "scattercarpet": [
           {
            "marker": {
             "colorbar": {
              "outlinewidth": 0,
              "ticks": ""
             }
            },
            "type": "scattercarpet"
           }
          ],
          "scattergeo": [
           {
            "marker": {
             "colorbar": {
              "outlinewidth": 0,
              "ticks": ""
             }
            },
            "type": "scattergeo"
           }
          ],
          "scattergl": [
           {
            "marker": {
             "colorbar": {
              "outlinewidth": 0,
              "ticks": ""
             }
            },
            "type": "scattergl"
           }
          ],
          "scattermapbox": [
           {
            "marker": {
             "colorbar": {
              "outlinewidth": 0,
              "ticks": ""
             }
            },
            "type": "scattermapbox"
           }
          ],
          "scatterpolar": [
           {
            "marker": {
             "colorbar": {
              "outlinewidth": 0,
              "ticks": ""
             }
            },
            "type": "scatterpolar"
           }
          ],
          "scatterpolargl": [
           {
            "marker": {
             "colorbar": {
              "outlinewidth": 0,
              "ticks": ""
             }
            },
            "type": "scatterpolargl"
           }
          ],
          "scatterternary": [
           {
            "marker": {
             "colorbar": {
              "outlinewidth": 0,
              "ticks": ""
             }
            },
            "type": "scatterternary"
           }
          ],
          "surface": [
           {
            "colorbar": {
             "outlinewidth": 0,
             "ticks": ""
            },
            "colorscale": [
             [
              0,
              "#0d0887"
             ],
             [
              0.1111111111111111,
              "#46039f"
             ],
             [
              0.2222222222222222,
              "#7201a8"
             ],
             [
              0.3333333333333333,
              "#9c179e"
             ],
             [
              0.4444444444444444,
              "#bd3786"
             ],
             [
              0.5555555555555556,
              "#d8576b"
             ],
             [
              0.6666666666666666,
              "#ed7953"
             ],
             [
              0.7777777777777778,
              "#fb9f3a"
             ],
             [
              0.8888888888888888,
              "#fdca26"
             ],
             [
              1,
              "#f0f921"
             ]
            ],
            "type": "surface"
           }
          ],
          "table": [
           {
            "cells": {
             "fill": {
              "color": "#EBF0F8"
             },
             "line": {
              "color": "white"
             }
            },
            "header": {
             "fill": {
              "color": "#C8D4E3"
             },
             "line": {
              "color": "white"
             }
            },
            "type": "table"
           }
          ]
         },
         "layout": {
          "annotationdefaults": {
           "arrowcolor": "#2a3f5f",
           "arrowhead": 0,
           "arrowwidth": 1
          },
          "autotypenumbers": "strict",
          "coloraxis": {
           "colorbar": {
            "outlinewidth": 0,
            "ticks": ""
           }
          },
          "colorscale": {
           "diverging": [
            [
             0,
             "#8e0152"
            ],
            [
             0.1,
             "#c51b7d"
            ],
            [
             0.2,
             "#de77ae"
            ],
            [
             0.3,
             "#f1b6da"
            ],
            [
             0.4,
             "#fde0ef"
            ],
            [
             0.5,
             "#f7f7f7"
            ],
            [
             0.6,
             "#e6f5d0"
            ],
            [
             0.7,
             "#b8e186"
            ],
            [
             0.8,
             "#7fbc41"
            ],
            [
             0.9,
             "#4d9221"
            ],
            [
             1,
             "#276419"
            ]
           ],
           "sequential": [
            [
             0,
             "#0d0887"
            ],
            [
             0.1111111111111111,
             "#46039f"
            ],
            [
             0.2222222222222222,
             "#7201a8"
            ],
            [
             0.3333333333333333,
             "#9c179e"
            ],
            [
             0.4444444444444444,
             "#bd3786"
            ],
            [
             0.5555555555555556,
             "#d8576b"
            ],
            [
             0.6666666666666666,
             "#ed7953"
            ],
            [
             0.7777777777777778,
             "#fb9f3a"
            ],
            [
             0.8888888888888888,
             "#fdca26"
            ],
            [
             1,
             "#f0f921"
            ]
           ],
           "sequentialminus": [
            [
             0,
             "#0d0887"
            ],
            [
             0.1111111111111111,
             "#46039f"
            ],
            [
             0.2222222222222222,
             "#7201a8"
            ],
            [
             0.3333333333333333,
             "#9c179e"
            ],
            [
             0.4444444444444444,
             "#bd3786"
            ],
            [
             0.5555555555555556,
             "#d8576b"
            ],
            [
             0.6666666666666666,
             "#ed7953"
            ],
            [
             0.7777777777777778,
             "#fb9f3a"
            ],
            [
             0.8888888888888888,
             "#fdca26"
            ],
            [
             1,
             "#f0f921"
            ]
           ]
          },
          "colorway": [
           "#636efa",
           "#EF553B",
           "#00cc96",
           "#ab63fa",
           "#FFA15A",
           "#19d3f3",
           "#FF6692",
           "#B6E880",
           "#FF97FF",
           "#FECB52"
          ],
          "font": {
           "color": "#2a3f5f"
          },
          "geo": {
           "bgcolor": "white",
           "lakecolor": "white",
           "landcolor": "#E5ECF6",
           "showlakes": true,
           "showland": true,
           "subunitcolor": "white"
          },
          "hoverlabel": {
           "align": "left"
          },
          "hovermode": "closest",
          "mapbox": {
           "style": "light"
          },
          "paper_bgcolor": "white",
          "plot_bgcolor": "#E5ECF6",
          "polar": {
           "angularaxis": {
            "gridcolor": "white",
            "linecolor": "white",
            "ticks": ""
           },
           "bgcolor": "#E5ECF6",
           "radialaxis": {
            "gridcolor": "white",
            "linecolor": "white",
            "ticks": ""
           }
          },
          "scene": {
           "xaxis": {
            "backgroundcolor": "#E5ECF6",
            "gridcolor": "white",
            "gridwidth": 2,
            "linecolor": "white",
            "showbackground": true,
            "ticks": "",
            "zerolinecolor": "white"
           },
           "yaxis": {
            "backgroundcolor": "#E5ECF6",
            "gridcolor": "white",
            "gridwidth": 2,
            "linecolor": "white",
            "showbackground": true,
            "ticks": "",
            "zerolinecolor": "white"
           },
           "zaxis": {
            "backgroundcolor": "#E5ECF6",
            "gridcolor": "white",
            "gridwidth": 2,
            "linecolor": "white",
            "showbackground": true,
            "ticks": "",
            "zerolinecolor": "white"
           }
          },
          "shapedefaults": {
           "line": {
            "color": "#2a3f5f"
           }
          },
          "ternary": {
           "aaxis": {
            "gridcolor": "white",
            "linecolor": "white",
            "ticks": ""
           },
           "baxis": {
            "gridcolor": "white",
            "linecolor": "white",
            "ticks": ""
           },
           "bgcolor": "#E5ECF6",
           "caxis": {
            "gridcolor": "white",
            "linecolor": "white",
            "ticks": ""
           }
          },
          "title": {
           "x": 0.05
          },
          "xaxis": {
           "automargin": true,
           "gridcolor": "white",
           "linecolor": "white",
           "ticks": "",
           "title": {
            "standoff": 15
           },
           "zerolinecolor": "white",
           "zerolinewidth": 2
          },
          "yaxis": {
           "automargin": true,
           "gridcolor": "white",
           "linecolor": "white",
           "ticks": "",
           "title": {
            "standoff": 15
           },
           "zerolinecolor": "white",
           "zerolinewidth": 2
          }
         }
        },
        "width": 800
       }
      }
     },
     "metadata": {},
     "output_type": "display_data"
    }
   ],
   "source": [
    "# Код тут\n",
    "from plotly.express import scatter_mapbox\n",
    "df_banners = df_centers.iloc[np.ravel(index).tolist()].copy()\n",
    "df_banners['office'] = [str(i) for i in range(\n",
    "    len(index)) for _ in range(len(index[0]))]\n",
    "fig = scatter_mapbox(df_banners, lat=df_banners.latitude, lon=df_banners.longitude,\n",
    "                     color = df_banners.office, mapbox_style='open-street-map',\n",
    "                     zoom = 2.9, width=800, height = 800, )\n",
    "fig.show()"
   ]
  },
  {
   "cell_type": "code",
   "execution_count": null,
   "id": "637aac8c",
   "metadata": {},
   "outputs": [],
   "source": []
  }
 ],
 "metadata": {
  "kernelspec": {
   "display_name": "Python 3 (ipykernel)",
   "language": "python",
   "name": "python3"
  },
  "language_info": {
   "codemirror_mode": {
    "name": "ipython",
    "version": 3
   },
   "file_extension": ".py",
   "mimetype": "text/x-python",
   "name": "python",
   "nbconvert_exporter": "python",
   "pygments_lexer": "ipython3",
   "version": "3.11.3"
  }
 },
 "nbformat": 4,
 "nbformat_minor": 5
}
