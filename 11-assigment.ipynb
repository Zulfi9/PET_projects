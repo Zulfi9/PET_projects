{
 "cells": [
  {
   "cell_type": "markdown",
   "id": "7da6badd",
   "metadata": {},
   "source": [
    "# Задания"
   ]
  },
  {
   "cell_type": "code",
   "execution_count": 1,
   "id": "a5684e7c",
   "metadata": {
    "tags": []
   },
   "outputs": [],
   "source": [
    "import numpy as np\n",
    "import matplotlib.pyplot as plt\n",
    "import pandas as pd\n",
    "import seaborn as sns\n",
    "import scipy\n",
    "import scipy.stats as st\n",
    "from scipy import stats\n",
    "from statsmodels.stats.weightstats import _tconfint_generic\n",
    "from statsmodels.stats.proportion import proportion_confint\n",
    "from math import sqrt"
   ]
  },
  {
   "cell_type": "markdown",
   "id": "a788fc8d",
   "metadata": {},
   "source": [
    "## Доверительные интервалы"
   ]
  },
  {
   "cell_type": "markdown",
   "id": "28ef55c5",
   "metadata": {},
   "source": [
    "### Задание 1"
   ]
  },
  {
   "cell_type": "markdown",
   "id": "84673cba",
   "metadata": {},
   "source": [
    "Построй диаграмму зависимости количества проданной пиццы от дня недели.\n",
    "Вывести дни недели, в которые продано **больше** и  **меньше** всего пиццы."
   ]
  },
  {
   "cell_type": "code",
   "execution_count": 2,
   "id": "aaae64d7",
   "metadata": {},
   "outputs": [
    {
     "name": "stderr",
     "output_type": "stream",
     "text": [
      "C:\\Users\\mzkh9\\AppData\\Local\\Temp\\ipykernel_1572\\1949028448.py:2: UserWarning: Could not infer format, so each element will be parsed individually, falling back to `dateutil`. To ensure parsing is consistent and as-expected, please specify a format.\n",
      "  data = pd.read_csv('../datasets/pizza.csv', low_memory = False, sep = ';',\n"
     ]
    },
    {
     "data": {
      "text/html": [
       "<div>\n",
       "<style scoped>\n",
       "    .dataframe tbody tr th:only-of-type {\n",
       "        vertical-align: middle;\n",
       "    }\n",
       "\n",
       "    .dataframe tbody tr th {\n",
       "        vertical-align: top;\n",
       "    }\n",
       "\n",
       "    .dataframe thead th {\n",
       "        text-align: right;\n",
       "    }\n",
       "</style>\n",
       "<table border=\"1\" class=\"dataframe\">\n",
       "  <thead>\n",
       "    <tr style=\"text-align: right;\">\n",
       "      <th></th>\n",
       "      <th>order_date_order_time</th>\n",
       "      <th>order_details_id</th>\n",
       "      <th>order_id</th>\n",
       "      <th>pizza_id</th>\n",
       "      <th>unit_price</th>\n",
       "      <th>total_price</th>\n",
       "      <th>pizza_size</th>\n",
       "      <th>pizza_category</th>\n",
       "      <th>pizza_ingredients</th>\n",
       "      <th>pizza_name</th>\n",
       "      <th>lead_time</th>\n",
       "    </tr>\n",
       "  </thead>\n",
       "  <tbody>\n",
       "    <tr>\n",
       "      <th>0</th>\n",
       "      <td>2015-01-01 11:38:36</td>\n",
       "      <td>1</td>\n",
       "      <td>1</td>\n",
       "      <td>hawaiian_m</td>\n",
       "      <td>13,25</td>\n",
       "      <td>13,25</td>\n",
       "      <td>M</td>\n",
       "      <td>Classic</td>\n",
       "      <td>Sliced Ham, Pineapple, Mozzarella Cheese</td>\n",
       "      <td>The Hawaiian Pizza</td>\n",
       "      <td>2015-01-01 11:53:30</td>\n",
       "    </tr>\n",
       "    <tr>\n",
       "      <th>1</th>\n",
       "      <td>2015-01-01 11:57:40</td>\n",
       "      <td>2</td>\n",
       "      <td>2</td>\n",
       "      <td>classic_dlx_m</td>\n",
       "      <td>16</td>\n",
       "      <td>16</td>\n",
       "      <td>M</td>\n",
       "      <td>Classic</td>\n",
       "      <td>Pepperoni, Mushrooms, Red Onions, Red Peppers,...</td>\n",
       "      <td>The Classic Deluxe Pizza</td>\n",
       "      <td>2015-01-01 12:16:26</td>\n",
       "    </tr>\n",
       "    <tr>\n",
       "      <th>2</th>\n",
       "      <td>2015-01-01 11:57:40</td>\n",
       "      <td>3</td>\n",
       "      <td>2</td>\n",
       "      <td>five_cheese_l</td>\n",
       "      <td>18,5</td>\n",
       "      <td>18,5</td>\n",
       "      <td>L</td>\n",
       "      <td>Veggie</td>\n",
       "      <td>Mozzarella Cheese, Provolone Cheese, Smoked Go...</td>\n",
       "      <td>The Five Cheese Pizza</td>\n",
       "      <td>2015-01-01 12:16:19</td>\n",
       "    </tr>\n",
       "    <tr>\n",
       "      <th>3</th>\n",
       "      <td>2015-01-01 11:57:40</td>\n",
       "      <td>4</td>\n",
       "      <td>2</td>\n",
       "      <td>ital_supr_l</td>\n",
       "      <td>20,75</td>\n",
       "      <td>20,75</td>\n",
       "      <td>L</td>\n",
       "      <td>Supreme</td>\n",
       "      <td>Calabrese Salami, Capocollo, Tomatoes, Red Oni...</td>\n",
       "      <td>The Italian Supreme Pizza</td>\n",
       "      <td>2015-01-01 12:10:58</td>\n",
       "    </tr>\n",
       "    <tr>\n",
       "      <th>4</th>\n",
       "      <td>2015-01-01 11:57:40</td>\n",
       "      <td>5</td>\n",
       "      <td>2</td>\n",
       "      <td>mexicana_m</td>\n",
       "      <td>16</td>\n",
       "      <td>16</td>\n",
       "      <td>M</td>\n",
       "      <td>Veggie</td>\n",
       "      <td>Tomatoes, Red Peppers, Jalapeno Peppers, Red O...</td>\n",
       "      <td>The Mexicana Pizza</td>\n",
       "      <td>2015-01-01 12:14:24</td>\n",
       "    </tr>\n",
       "  </tbody>\n",
       "</table>\n",
       "</div>"
      ],
      "text/plain": [
       "  order_date_order_time  order_details_id  order_id       pizza_id unit_price   \n",
       "0   2015-01-01 11:38:36                 1         1     hawaiian_m      13,25  \\\n",
       "1   2015-01-01 11:57:40                 2         2  classic_dlx_m         16   \n",
       "2   2015-01-01 11:57:40                 3         2  five_cheese_l       18,5   \n",
       "3   2015-01-01 11:57:40                 4         2    ital_supr_l      20,75   \n",
       "4   2015-01-01 11:57:40                 5         2     mexicana_m         16   \n",
       "\n",
       "  total_price pizza_size pizza_category   \n",
       "0       13,25          M        Classic  \\\n",
       "1          16          M        Classic   \n",
       "2        18,5          L         Veggie   \n",
       "3       20,75          L        Supreme   \n",
       "4          16          M         Veggie   \n",
       "\n",
       "                                   pizza_ingredients   \n",
       "0           Sliced Ham, Pineapple, Mozzarella Cheese  \\\n",
       "1  Pepperoni, Mushrooms, Red Onions, Red Peppers,...   \n",
       "2  Mozzarella Cheese, Provolone Cheese, Smoked Go...   \n",
       "3  Calabrese Salami, Capocollo, Tomatoes, Red Oni...   \n",
       "4  Tomatoes, Red Peppers, Jalapeno Peppers, Red O...   \n",
       "\n",
       "                  pizza_name            lead_time  \n",
       "0         The Hawaiian Pizza  2015-01-01 11:53:30  \n",
       "1   The Classic Deluxe Pizza  2015-01-01 12:16:26  \n",
       "2      The Five Cheese Pizza  2015-01-01 12:16:19  \n",
       "3  The Italian Supreme Pizza  2015-01-01 12:10:58  \n",
       "4         The Mexicana Pizza  2015-01-01 12:14:24  "
      ]
     },
     "execution_count": 2,
     "metadata": {},
     "output_type": "execute_result"
    }
   ],
   "source": [
    "## создаем датафрейм, где преобразуем столбики с временем и датой заказа в нужный формат (из строкового в формат даты и времени) для дальнейшего использования и удобства сортировки\n",
    "data = pd.read_csv('../datasets/pizza.csv', low_memory = False, sep = ';',\n",
    "                  parse_dates=[['order_date', 'order_time']])\n",
    "data.head()"
   ]
  },
  {
   "cell_type": "code",
   "execution_count": 3,
   "id": "33330397",
   "metadata": {},
   "outputs": [
    {
     "data": {
      "text/html": [
       "<div>\n",
       "<style scoped>\n",
       "    .dataframe tbody tr th:only-of-type {\n",
       "        vertical-align: middle;\n",
       "    }\n",
       "\n",
       "    .dataframe tbody tr th {\n",
       "        vertical-align: top;\n",
       "    }\n",
       "\n",
       "    .dataframe thead th {\n",
       "        text-align: right;\n",
       "    }\n",
       "</style>\n",
       "<table border=\"1\" class=\"dataframe\">\n",
       "  <thead>\n",
       "    <tr style=\"text-align: right;\">\n",
       "      <th></th>\n",
       "      <th>dt</th>\n",
       "      <th>order_details_id</th>\n",
       "      <th>order_id</th>\n",
       "      <th>pizza_id</th>\n",
       "      <th>unit_price</th>\n",
       "      <th>total_price</th>\n",
       "      <th>pizza_size</th>\n",
       "      <th>pizza_category</th>\n",
       "      <th>pizza_ingredients</th>\n",
       "      <th>pizza_name</th>\n",
       "      <th>lead_time</th>\n",
       "      <th>week_day</th>\n",
       "    </tr>\n",
       "  </thead>\n",
       "  <tbody>\n",
       "    <tr>\n",
       "      <th>0</th>\n",
       "      <td>2015-01-01 11:38:36</td>\n",
       "      <td>1</td>\n",
       "      <td>1</td>\n",
       "      <td>hawaiian_m</td>\n",
       "      <td>13,25</td>\n",
       "      <td>13,25</td>\n",
       "      <td>M</td>\n",
       "      <td>Classic</td>\n",
       "      <td>Sliced Ham, Pineapple, Mozzarella Cheese</td>\n",
       "      <td>The Hawaiian Pizza</td>\n",
       "      <td>2015-01-01 11:53:30</td>\n",
       "      <td>Четверг</td>\n",
       "    </tr>\n",
       "    <tr>\n",
       "      <th>1</th>\n",
       "      <td>2015-01-01 11:57:40</td>\n",
       "      <td>2</td>\n",
       "      <td>2</td>\n",
       "      <td>classic_dlx_m</td>\n",
       "      <td>16</td>\n",
       "      <td>16</td>\n",
       "      <td>M</td>\n",
       "      <td>Classic</td>\n",
       "      <td>Pepperoni, Mushrooms, Red Onions, Red Peppers,...</td>\n",
       "      <td>The Classic Deluxe Pizza</td>\n",
       "      <td>2015-01-01 12:16:26</td>\n",
       "      <td>Четверг</td>\n",
       "    </tr>\n",
       "    <tr>\n",
       "      <th>2</th>\n",
       "      <td>2015-01-01 11:57:40</td>\n",
       "      <td>3</td>\n",
       "      <td>2</td>\n",
       "      <td>five_cheese_l</td>\n",
       "      <td>18,5</td>\n",
       "      <td>18,5</td>\n",
       "      <td>L</td>\n",
       "      <td>Veggie</td>\n",
       "      <td>Mozzarella Cheese, Provolone Cheese, Smoked Go...</td>\n",
       "      <td>The Five Cheese Pizza</td>\n",
       "      <td>2015-01-01 12:16:19</td>\n",
       "      <td>Четверг</td>\n",
       "    </tr>\n",
       "    <tr>\n",
       "      <th>3</th>\n",
       "      <td>2015-01-01 11:57:40</td>\n",
       "      <td>4</td>\n",
       "      <td>2</td>\n",
       "      <td>ital_supr_l</td>\n",
       "      <td>20,75</td>\n",
       "      <td>20,75</td>\n",
       "      <td>L</td>\n",
       "      <td>Supreme</td>\n",
       "      <td>Calabrese Salami, Capocollo, Tomatoes, Red Oni...</td>\n",
       "      <td>The Italian Supreme Pizza</td>\n",
       "      <td>2015-01-01 12:10:58</td>\n",
       "      <td>Четверг</td>\n",
       "    </tr>\n",
       "    <tr>\n",
       "      <th>4</th>\n",
       "      <td>2015-01-01 11:57:40</td>\n",
       "      <td>5</td>\n",
       "      <td>2</td>\n",
       "      <td>mexicana_m</td>\n",
       "      <td>16</td>\n",
       "      <td>16</td>\n",
       "      <td>M</td>\n",
       "      <td>Veggie</td>\n",
       "      <td>Tomatoes, Red Peppers, Jalapeno Peppers, Red O...</td>\n",
       "      <td>The Mexicana Pizza</td>\n",
       "      <td>2015-01-01 12:14:24</td>\n",
       "      <td>Четверг</td>\n",
       "    </tr>\n",
       "  </tbody>\n",
       "</table>\n",
       "</div>"
      ],
      "text/plain": [
       "                   dt  order_details_id  order_id       pizza_id unit_price   \n",
       "0 2015-01-01 11:38:36                 1         1     hawaiian_m      13,25  \\\n",
       "1 2015-01-01 11:57:40                 2         2  classic_dlx_m         16   \n",
       "2 2015-01-01 11:57:40                 3         2  five_cheese_l       18,5   \n",
       "3 2015-01-01 11:57:40                 4         2    ital_supr_l      20,75   \n",
       "4 2015-01-01 11:57:40                 5         2     mexicana_m         16   \n",
       "\n",
       "  total_price pizza_size pizza_category   \n",
       "0       13,25          M        Classic  \\\n",
       "1          16          M        Classic   \n",
       "2        18,5          L         Veggie   \n",
       "3       20,75          L        Supreme   \n",
       "4          16          M         Veggie   \n",
       "\n",
       "                                   pizza_ingredients   \n",
       "0           Sliced Ham, Pineapple, Mozzarella Cheese  \\\n",
       "1  Pepperoni, Mushrooms, Red Onions, Red Peppers,...   \n",
       "2  Mozzarella Cheese, Provolone Cheese, Smoked Go...   \n",
       "3  Calabrese Salami, Capocollo, Tomatoes, Red Oni...   \n",
       "4  Tomatoes, Red Peppers, Jalapeno Peppers, Red O...   \n",
       "\n",
       "                  pizza_name            lead_time week_day  \n",
       "0         The Hawaiian Pizza  2015-01-01 11:53:30  Четверг  \n",
       "1   The Classic Deluxe Pizza  2015-01-01 12:16:26  Четверг  \n",
       "2      The Five Cheese Pizza  2015-01-01 12:16:19  Четверг  \n",
       "3  The Italian Supreme Pizza  2015-01-01 12:10:58  Четверг  \n",
       "4         The Mexicana Pizza  2015-01-01 12:14:24  Четверг  "
      ]
     },
     "execution_count": 3,
     "metadata": {},
     "output_type": "execute_result"
    }
   ],
   "source": [
    "## переименовываем столбец order_date_order_time в dt для удобства\n",
    "data = data.rename(columns={'order_date_order_time':'dt'})\n",
    "\n",
    "## создаем в датафрейме столбец с днями недели\n",
    "data['week_day'] = data['dt'].dt.day_name(locale = 'Russian')\n",
    "data.head()"
   ]
  },
  {
   "cell_type": "code",
   "execution_count": 4,
   "id": "2008b22b",
   "metadata": {},
   "outputs": [
    {
     "name": "stderr",
     "output_type": "stream",
     "text": [
      "C:\\Users\\mzkh9\\AppData\\Local\\Temp\\ipykernel_1572\\1143830380.py:2: UserWarning: Pandas doesn't allow columns to be created via a new attribute name - see https://pandas.pydata.org/pandas-docs/stable/indexing.html#attribute-access\n",
      "  data.kolvo1 = pd.DataFrame(columns=['wd', 'count'])\n"
     ]
    },
    {
     "data": {
      "text/html": [
       "<div>\n",
       "<style scoped>\n",
       "    .dataframe tbody tr th:only-of-type {\n",
       "        vertical-align: middle;\n",
       "    }\n",
       "\n",
       "    .dataframe tbody tr th {\n",
       "        vertical-align: top;\n",
       "    }\n",
       "\n",
       "    .dataframe thead th {\n",
       "        text-align: right;\n",
       "    }\n",
       "</style>\n",
       "<table border=\"1\" class=\"dataframe\">\n",
       "  <thead>\n",
       "    <tr style=\"text-align: right;\">\n",
       "      <th></th>\n",
       "      <th>wd</th>\n",
       "      <th>count</th>\n",
       "    </tr>\n",
       "  </thead>\n",
       "  <tbody>\n",
       "    <tr>\n",
       "      <th>0</th>\n",
       "      <td>Четверг</td>\n",
       "      <td>857</td>\n",
       "    </tr>\n",
       "    <tr>\n",
       "      <th>1</th>\n",
       "      <td>Пятница</td>\n",
       "      <td>818</td>\n",
       "    </tr>\n",
       "    <tr>\n",
       "      <th>2</th>\n",
       "      <td>Суббота</td>\n",
       "      <td>706</td>\n",
       "    </tr>\n",
       "    <tr>\n",
       "      <th>3</th>\n",
       "      <td>Вторник</td>\n",
       "      <td>702</td>\n",
       "    </tr>\n",
       "    <tr>\n",
       "      <th>4</th>\n",
       "      <td>Среда</td>\n",
       "      <td>655</td>\n",
       "    </tr>\n",
       "    <tr>\n",
       "      <th>5</th>\n",
       "      <td>Понедельник</td>\n",
       "      <td>634</td>\n",
       "    </tr>\n",
       "    <tr>\n",
       "      <th>6</th>\n",
       "      <td>Воскресенье</td>\n",
       "      <td>628</td>\n",
       "    </tr>\n",
       "  </tbody>\n",
       "</table>\n",
       "</div>"
      ],
      "text/plain": [
       "            wd  count\n",
       "0      Четверг    857\n",
       "1      Пятница    818\n",
       "2      Суббота    706\n",
       "3      Вторник    702\n",
       "4        Среда    655\n",
       "5  Понедельник    634\n",
       "6  Воскресенье    628"
      ]
     },
     "execution_count": 4,
     "metadata": {},
     "output_type": "execute_result"
    }
   ],
   "source": [
    "## посмотрим сколько пицц в какой день заказали\n",
    "data.kolvo1 = pd.DataFrame(columns=['wd', 'count'])\n",
    "data.kolvo1['wd'] = data['week_day'].value_counts().index\n",
    "data.kolvo1['count'] = data['week_day'].value_counts().values\n",
    "data.kolvo1"
   ]
  },
  {
   "cell_type": "code",
   "execution_count": 5,
   "id": "4eec074d",
   "metadata": {},
   "outputs": [
    {
     "data": {
      "text/html": [
       "<div>\n",
       "<style scoped>\n",
       "    .dataframe tbody tr th:only-of-type {\n",
       "        vertical-align: middle;\n",
       "    }\n",
       "\n",
       "    .dataframe tbody tr th {\n",
       "        vertical-align: top;\n",
       "    }\n",
       "\n",
       "    .dataframe thead th {\n",
       "        text-align: right;\n",
       "    }\n",
       "</style>\n",
       "<table border=\"1\" class=\"dataframe\">\n",
       "  <thead>\n",
       "    <tr style=\"text-align: right;\">\n",
       "      <th></th>\n",
       "      <th>wd</th>\n",
       "      <th>num</th>\n",
       "      <th>count</th>\n",
       "    </tr>\n",
       "  </thead>\n",
       "  <tbody>\n",
       "    <tr>\n",
       "      <th>0</th>\n",
       "      <td>Понедельник</td>\n",
       "      <td>1</td>\n",
       "      <td>634</td>\n",
       "    </tr>\n",
       "    <tr>\n",
       "      <th>1</th>\n",
       "      <td>Вторник</td>\n",
       "      <td>2</td>\n",
       "      <td>702</td>\n",
       "    </tr>\n",
       "    <tr>\n",
       "      <th>2</th>\n",
       "      <td>Среда</td>\n",
       "      <td>3</td>\n",
       "      <td>655</td>\n",
       "    </tr>\n",
       "    <tr>\n",
       "      <th>3</th>\n",
       "      <td>Четверг</td>\n",
       "      <td>4</td>\n",
       "      <td>857</td>\n",
       "    </tr>\n",
       "    <tr>\n",
       "      <th>4</th>\n",
       "      <td>Пятница</td>\n",
       "      <td>5</td>\n",
       "      <td>818</td>\n",
       "    </tr>\n",
       "    <tr>\n",
       "      <th>5</th>\n",
       "      <td>Суббота</td>\n",
       "      <td>6</td>\n",
       "      <td>706</td>\n",
       "    </tr>\n",
       "    <tr>\n",
       "      <th>6</th>\n",
       "      <td>Воскресенье</td>\n",
       "      <td>7</td>\n",
       "      <td>628</td>\n",
       "    </tr>\n",
       "  </tbody>\n",
       "</table>\n",
       "</div>"
      ],
      "text/plain": [
       "            wd  num  count\n",
       "0  Понедельник    1    634\n",
       "1      Вторник    2    702\n",
       "2        Среда    3    655\n",
       "3      Четверг    4    857\n",
       "4      Пятница    5    818\n",
       "5      Суббота    6    706\n",
       "6  Воскресенье    7    628"
      ]
     },
     "execution_count": 5,
     "metadata": {},
     "output_type": "execute_result"
    }
   ],
   "source": [
    "## создадим датафрейм с днями недели и количеством заказов пицц так, чтобы дни недели шли по порядку, как в календаре\n",
    "dn = pd.DataFrame({'wd' : ['Понедельник', 'Вторник', 'Среда', 'Четверг', 'Пятница', 'Суббота', 'Воскресенье'],\n",
    "                   'num' : [1, 2, 3, 4, 5, 6, 7]})\n",
    "dk=pd.DataFrame(columns=['wd', 'count'])\n",
    "dk['wd'] = data['week_day'].value_counts().index\n",
    "dk['count'] = data['week_day'].value_counts().values\n",
    "dk_dn = dn.merge(dk, on = 'wd')\n",
    "dk_dn"
   ]
  },
  {
   "cell_type": "code",
   "execution_count": 6,
   "id": "2e3aeff0",
   "metadata": {},
   "outputs": [
    {
     "data": {
      "image/png": "[encoded data removed]",
      "text/plain": [
       "<Figure size 640x480 with 1 Axes>"
      ]
     },
     "metadata": {},
     "output_type": "display_data"
    }
   ],
   "source": [
    "## построим диаграмму\n",
    "sns.barplot(x = dk_dn['wd'],\n",
    "            y = dk_dn['count'])\n",
    "plt.xlabel('День недели')\n",
    "plt.ylabel('Количество проданной пиццы')\n",
    "plt.title('Диаграмма зависимости количества проданной пиццы от дня недели')\n",
    "plt.xticks(rotation=45)\n",
    "plt.show()"
   ]
  },
  {
   "cell_type": "code",
   "execution_count": 7,
   "id": "1fb14ba4",
   "metadata": {},
   "outputs": [
    {
     "name": "stdout",
     "output_type": "stream",
     "text": [
      "Больше всего пиццы было продано в Четверг\n",
      "Меньше всего пиццы было продано в Воскресенье\n"
     ]
    }
   ],
   "source": [
    "print('Больше всего пиццы было продано в', data.kolvo1.iloc[0]['wd'])\n",
    "print('Меньше всего пиццы было продано в', data.kolvo1.iloc[6]['wd'])"
   ]
  },
  {
   "cell_type": "markdown",
   "id": "76d81b7e",
   "metadata": {},
   "source": [
    "### Задание 2"
   ]
  },
  {
   "cell_type": "markdown",
   "id": "9aaf3a6e",
   "metadata": {},
   "source": [
    "Посчитай, сколько **секунд** необходимо для приготовления каждой пиццы по всем заказам. Значения сохранить в новый столбец - `cook_time`. Найти среднее, медианное, максимальное и минимальное время приготовления пиццы. Результат округлите до целого."
   ]
  },
  {
   "cell_type": "code",
   "execution_count": 8,
   "id": "cf58a66c",
   "metadata": {},
   "outputs": [
    {
     "name": "stdout",
     "output_type": "stream",
     "text": [
      "Среденее время приготовления пиццы: 1007\n",
      "Медианной время приготовления пиццы: 1006\n",
      "Максимальное время приготовления пиццы: 1609\n",
      "Минимальное время приготовления пиццы: 444\n"
     ]
    }
   ],
   "source": [
    "## Код тут\n",
    "data['lead_time'] = data['lead_time'].astype('datetime64[ns]')\n",
    "data['cook_time'] = (data['lead_time'] - data['dt']).dt.seconds\n",
    "\n",
    "avg_time = round(data['cook_time'].mean())\n",
    "med_time = round(data['cook_time'].median())\n",
    "max_time = round(data['cook_time'].max())\n",
    "min_time = round(data['cook_time'].min())\n",
    "\n",
    "print ('Среденее время приготовления пиццы:', avg_time)\n",
    "print ('Медианной время приготовления пиццы:', med_time)\n",
    "print ('Максимальное время приготовления пиццы:', max_time)\n",
    "print ('Минимальное время приготовления пиццы:', min_time)"
   ]
  },
  {
   "cell_type": "markdown",
   "id": "e3ddd404",
   "metadata": {},
   "source": [
    "### Задание 3"
   ]
  },
  {
   "cell_type": "markdown",
   "id": "666426b6",
   "metadata": {},
   "source": [
    "Построй 95% доверительный интервал для среднего времени приготовления пиццы в **секундах**. Интервал округли до целого\n",
    "> Для расчета стандартного отклонения используй `numpy.std(ddof=1)`"
   ]
  },
  {
   "cell_type": "code",
   "execution_count": 9,
   "id": "05fbb9d2",
   "metadata": {},
   "outputs": [
    {
     "name": "stdout",
     "output_type": "stream",
     "text": [
      "95% доверительный интеррвал для среднего времени приготовления пиццы в секундах = (1002, 1012)\n"
     ]
    }
   ],
   "source": [
    "## Код тут\n",
    "time = data['cook_time']\n",
    "\n",
    "def get_95(values):\n",
    "    mean_std = values.std(ddof=1)/sqrt(len(values))  # среднее стандартное отклоение\n",
    "    CI = _tconfint_generic(values.mean(), mean_std, len(values) - 1, 0.05, 'two-sided') # вычисляем доверительный интервал\n",
    "    return(int(np.round(CI[0])), int(np.round(CI[1])))\n",
    "\n",
    "print ('95% доверительный интеррвал для среднего времени приготовления пиццы в секундах =', get_95(time))"
   ]
  },
  {
   "cell_type": "markdown",
   "id": "5ee86693",
   "metadata": {},
   "source": [
    "### Задание 4"
   ]
  },
  {
   "cell_type": "markdown",
   "id": "7de38e4e",
   "metadata": {},
   "source": [
    "Хозяин ресторана хочет оптимизировать меню ресторана. При формировании цены на пиццу хозяин хочет учитывать время \n",
    "её изготовления. Давай найдем ту пиццу (pizza_name), у которой верхняя граница доверительного интервала её изготовления \n",
    "самая высокая.\n",
    "> Среди пицц, у которых за все время заказывали более 100 штук"
   ]
  },
  {
   "cell_type": "code",
   "execution_count": 10,
   "id": "522c8330",
   "metadata": {},
   "outputs": [
    {
     "data": {
      "text/plain": [
       "{'The Hawaiian Pizza': 1023,\n",
       " 'The Classic Deluxe Pizza': 1040,\n",
       " 'The Five Cheese Pizza': 1051,\n",
       " 'The Italian Supreme Pizza': 1032,\n",
       " 'The Mexicana Pizza': 1023,\n",
       " 'The Thai Chicken Pizza': 1036,\n",
       " 'The Prosciutto and Arugula Pizza': 1037,\n",
       " 'The Barbecue Chicken Pizza': 1027,\n",
       " 'The Greek Pizza': 1021,\n",
       " 'The Spinach Supreme Pizza': 1067,\n",
       " 'The Italian Capocollo Pizza': 1031,\n",
       " 'The Spicy Italian Pizza': 1036,\n",
       " 'The Vegetables + Vegetables Pizza': 1029,\n",
       " 'The Southwest Chicken Pizza': 1042,\n",
       " 'The California Chicken Pizza': 1030,\n",
       " 'The Pepperoni Pizza': 1019,\n",
       " 'The Big Meat Pizza': 1040,\n",
       " 'The Four Cheese Pizza': 1014,\n",
       " 'The Napolitana Pizza': 1021,\n",
       " 'The Italian Vegetables Pizza': 1069,\n",
       " 'The Pepper Salami Pizza': 1020,\n",
       " 'The Spinach and Feta Pizza': 1026,\n",
       " 'The Sicilian Pizza': 1019,\n",
       " 'The Chicken Alfredo Pizza': 1049,\n",
       " 'The Pepperoni, Mushroom, and Peppers Pizza': 1056}"
      ]
     },
     "execution_count": 10,
     "metadata": {},
     "output_type": "execute_result"
    }
   ],
   "source": [
    "## карта из пицц, которая заказана более 10 раз\n",
    "pizza_cnt_100 = data[data['pizza_name'].map(data['pizza_name'].value_counts()) > 100]\n",
    "# pizza_cnt_100\n",
    "\n",
    "\n",
    "## Создаем словарь через цикл, который проходит по столбику с именем пиццы и для каждой пиццы расчитывает доверительный интервал и в словарь добавляет его верхнюю границу\n",
    "pizza_dict = {}\n",
    "\n",
    "for pizza in pizza_cnt_100['pizza_name']:\n",
    "    one_pizza = pizza_cnt_100[pizza_cnt_100['pizza_name'] == pizza]\n",
    "    tin = one_pizza['cook_time']\n",
    "    st_dev = tin.std(ddof=1) / np.sqrt(len(one_pizza))\n",
    "    CI100 = stats.t.interval(0.95, df = len(one_pizza) - 1, loc=tin.mean(), scale = st_dev)\n",
    "    pizza_dict[pizza]= (round(CI100[1]))\n",
    "\n",
    "pizza_dict"
   ]
  },
  {
   "cell_type": "code",
   "execution_count": 11,
   "id": "8bcd266b",
   "metadata": {},
   "outputs": [
    {
     "name": "stdout",
     "output_type": "stream",
     "text": [
      "Пицца, у которой верхняя граница интервала самая высокая - The Italian Vegetables Pizza\n",
      "Верхняя граница интервала ее изготовления - 1069 сек\n"
     ]
    }
   ],
   "source": [
    "## выводим максимум из словарика\n",
    "highCI = max(pizza_dict.values())\n",
    "pizza_highCI = max(pizza_dict, key = pizza_dict.get)\n",
    "print('Пицца, у которой верхняя граница интервала самая высокая -', pizza_highCI)\n",
    "print('Верхняя граница интервала ее изготовления -', highCI, 'сек')"
   ]
  },
  {
   "cell_type": "markdown",
   "id": "f81baa2f",
   "metadata": {},
   "source": [
    "### Задание 5"
   ]
  },
  {
   "cell_type": "markdown",
   "id": "005c00f5",
   "metadata": {},
   "source": [
    "Также хозяину ресторана хочется убрать из меню пиццы с нестабильным временем изготовления. \n",
    "Давай найдем пиццу с самым широким доверительным интервалом.\n",
    "> Среди пицц, у которых за все время заказывали более 100 штук"
   ]
  },
  {
   "cell_type": "code",
   "execution_count": 12,
   "id": "8932a0cc",
   "metadata": {},
   "outputs": [
    {
     "data": {
      "text/plain": [
       "{'The Hawaiian Pizza': 49,\n",
       " 'The Classic Deluxe Pizza': 50,\n",
       " 'The Five Cheese Pizza': 58,\n",
       " 'The Italian Supreme Pizza': 50,\n",
       " 'The Mexicana Pizza': 60,\n",
       " 'The Thai Chicken Pizza': 49,\n",
       " 'The Prosciutto and Arugula Pizza': 59,\n",
       " 'The Barbecue Chicken Pizza': 47,\n",
       " 'The Greek Pizza': 60,\n",
       " 'The Spinach Supreme Pizza': 70,\n",
       " 'The Italian Capocollo Pizza': 60,\n",
       " 'The Spicy Italian Pizza': 54,\n",
       " 'The Vegetables + Vegetables Pizza': 51,\n",
       " 'The Southwest Chicken Pizza': 54,\n",
       " 'The California Chicken Pizza': 46,\n",
       " 'The Pepperoni Pizza': 43,\n",
       " 'The Big Meat Pizza': 55,\n",
       " 'The Four Cheese Pizza': 49,\n",
       " 'The Napolitana Pizza': 57,\n",
       " 'The Italian Vegetables Pizza': 63,\n",
       " 'The Pepper Salami Pizza': 53,\n",
       " 'The Spinach and Feta Pizza': 56,\n",
       " 'The Sicilian Pizza': 48,\n",
       " 'The Chicken Alfredo Pizza': 74,\n",
       " 'The Pepperoni, Mushroom, and Peppers Pizza': 62}"
      ]
     },
     "execution_count": 12,
     "metadata": {},
     "output_type": "execute_result"
    }
   ],
   "source": [
    "## Код тут\n",
    "## Создаем словарь через цикл, который проходит по столбику с именем пиццы и для каждой пиццы расчитывает доверительный интервал и в словарь добавляет его ширину\n",
    "pizza_dict2 = {}\n",
    "\n",
    "for pizza in pizza_cnt_100['pizza_name']:\n",
    "    one_pizza = pizza_cnt_100[pizza_cnt_100['pizza_name'] == pizza]\n",
    "    tin = one_pizza['cook_time']\n",
    "    st_dev = tin.std(ddof=1) / np.sqrt(len(one_pizza))\n",
    "    CI100 = stats.t.interval(0.95, df = len(one_pizza) - 1, loc=tin.mean(), scale = st_dev)\n",
    "    pizza_dict2[pizza]= (round(CI100[1]) - round(CI100[0]))\n",
    "\n",
    "pizza_dict2"
   ]
  },
  {
   "cell_type": "code",
   "execution_count": 13,
   "id": "dd55bcf6",
   "metadata": {},
   "outputs": [
    {
     "name": "stdout",
     "output_type": "stream",
     "text": [
      "Пицца, у которой самый широкий доверительный интервал - The Chicken Alfredo Pizza\n",
      "Доверительный интервал пиццы The Chicken Alfredo Pizza составляет- 1069 сек\n"
     ]
    }
   ],
   "source": [
    "## выводим максимум из словарика\n",
    "highCI2 = max(pizza_dict2.values())\n",
    "pizza_highCI2 = max(pizza_dict2, key = pizza_dict2.get)\n",
    "print('Пицца, у которой самый широкий доверительный интервал -', pizza_highCI2)\n",
    "print('Доверительный интервал пиццы',  pizza_highCI2, 'составляет-', highCI, 'сек')"
   ]
  },
  {
   "cell_type": "markdown",
   "id": "b28393c5",
   "metadata": {},
   "source": [
    "## AB тестирование"
   ]
  },
  {
   "cell_type": "markdown",
   "id": "9dc3e5a8",
   "metadata": {},
   "source": [
    "### Задание 6"
   ]
  },
  {
   "cell_type": "markdown",
   "id": "028eddf8",
   "metadata": {},
   "source": [
    "В качестве нулевой гипотезы (H0) выберем, что старый баннер лучше нового.  В качестве альтернативной гипотезы (H1) выберем, \n",
    "что новый баннер лучше старого. Построй 95% доверительный интервал для доли каждого из баннеров, используя метод \n",
    "[proportion_confint](https://www.statsmodels.org/devel/generated/statsmodels.stats.proportion.proportion_confint.html)\n",
    "библиотеки statsmodels. Пересекаются ли эти интервалы?"
   ]
  },
  {
   "cell_type": "code",
   "execution_count": 14,
   "id": "8b30b379",
   "metadata": {},
   "outputs": [
    {
     "data": {
      "text/html": [
       "<div>\n",
       "<style scoped>\n",
       "    .dataframe tbody tr th:only-of-type {\n",
       "        vertical-align: middle;\n",
       "    }\n",
       "\n",
       "    .dataframe tbody tr th {\n",
       "        vertical-align: top;\n",
       "    }\n",
       "\n",
       "    .dataframe thead th {\n",
       "        text-align: right;\n",
       "    }\n",
       "</style>\n",
       "<table border=\"1\" class=\"dataframe\">\n",
       "  <thead>\n",
       "    <tr style=\"text-align: right;\">\n",
       "      <th></th>\n",
       "      <th>banner_a</th>\n",
       "      <th>banner_b</th>\n",
       "    </tr>\n",
       "  </thead>\n",
       "  <tbody>\n",
       "    <tr>\n",
       "      <th>count</th>\n",
       "      <td>1000.000000</td>\n",
       "      <td>1000.000000</td>\n",
       "    </tr>\n",
       "    <tr>\n",
       "      <th>mean</th>\n",
       "      <td>0.037000</td>\n",
       "      <td>0.053000</td>\n",
       "    </tr>\n",
       "    <tr>\n",
       "      <th>std</th>\n",
       "      <td>0.188856</td>\n",
       "      <td>0.224146</td>\n",
       "    </tr>\n",
       "    <tr>\n",
       "      <th>min</th>\n",
       "      <td>0.000000</td>\n",
       "      <td>0.000000</td>\n",
       "    </tr>\n",
       "    <tr>\n",
       "      <th>25%</th>\n",
       "      <td>0.000000</td>\n",
       "      <td>0.000000</td>\n",
       "    </tr>\n",
       "    <tr>\n",
       "      <th>50%</th>\n",
       "      <td>0.000000</td>\n",
       "      <td>0.000000</td>\n",
       "    </tr>\n",
       "    <tr>\n",
       "      <th>75%</th>\n",
       "      <td>0.000000</td>\n",
       "      <td>0.000000</td>\n",
       "    </tr>\n",
       "    <tr>\n",
       "      <th>max</th>\n",
       "      <td>1.000000</td>\n",
       "      <td>1.000000</td>\n",
       "    </tr>\n",
       "  </tbody>\n",
       "</table>\n",
       "</div>"
      ],
      "text/plain": [
       "          banner_a     banner_b\n",
       "count  1000.000000  1000.000000\n",
       "mean      0.037000     0.053000\n",
       "std       0.188856     0.224146\n",
       "min       0.000000     0.000000\n",
       "25%       0.000000     0.000000\n",
       "50%       0.000000     0.000000\n",
       "75%       0.000000     0.000000\n",
       "max       1.000000     1.000000"
      ]
     },
     "execution_count": 14,
     "metadata": {},
     "output_type": "execute_result"
    }
   ],
   "source": [
    "## Код тут\n",
    "click_stat = pd.read_csv('../datasets/click.csv', low_memory = False)\n",
    "click_stat.describe()"
   ]
  },
  {
   "cell_type": "code",
   "execution_count": 15,
   "id": "1d2dde34",
   "metadata": {},
   "outputs": [
    {
     "name": "stdout",
     "output_type": "stream",
     "text": [
      "Доверительный интервал для старого баннера = (0.02530064022092865, 0.04869935977907135)\n",
      "Доверительный интервал для нового баннера = (0.03911451622486782, 0.06688548377513218)\n",
      "Доверительные интервалы пересекаются\n"
     ]
    }
   ],
   "source": [
    "ca = proportion_confint(click_stat['banner_a'].sum(), click_stat.shape[0])\n",
    "cb = proportion_confint(click_stat['banner_b'].sum(), click_stat.shape[0])\n",
    "print('Доверительный интервал для старого баннера =', ca)\n",
    "print('Доверительный интервал для нового баннера =', cb)\n",
    "\n",
    "if ca[0]- cb[1] > 0 or cb[0]- ca[1] > 0:\n",
    "    print('Доверительные интервалы не пересекаются')\n",
    "else:\n",
    "    print('Доверительные интервалы пересекаются')\n",
    "\n"
   ]
  },
  {
   "cell_type": "markdown",
   "id": "84ac442f",
   "metadata": {},
   "source": [
    "### Задание 7"
   ]
  },
  {
   "cell_type": "markdown",
   "id": "8d760d69",
   "metadata": {},
   "source": [
    "Для более детальной оценки построй 95% доверительный интервал для разности двух долей.\n",
    "**Ответ дай в формате:**\\\n",
    "95% доверительный интервал для разности двух долей: [0.99847, 9.99847]"
   ]
  },
  {
   "cell_type": "markdown",
   "id": "2f34dfbc",
   "metadata": {},
   "source": [
    "Левая и правая границы доверительного интервала рассчитываются по формулам:\n",
    "$$p_a - p_b \\pm z * \\sqrt{\\frac{p_a(1 - p_a)}{n_a} + \\frac{p_b(1 - p_b)}{n_b}}$$\n",
    "Где\n",
    "\n",
    "$p_a = \\frac{n_{like(a)}}{n_{a}}$,\n",
    "\n",
    "$p_b = \\frac{n_{like(b)}}{n_{b}}$,\n",
    "\n",
    "$z = 1-\\frac{\\alpha}{2}$ (используй scipy.stats.norm.ppf)\n",
    "\n",
    "$n_a$ - общее количество кликов по баннеру а\n",
    "\n",
    "$n_b$ - общее количество кликов по баннеру b\n",
    "\n",
    "$n_{like(a)}$ - количество лайков по баннеру а\n",
    "\n",
    "$n_{like(b)}$ - количество лайков по баннеру b"
   ]
  },
  {
   "cell_type": "code",
   "execution_count": 16,
   "id": "aa51d523",
   "metadata": {},
   "outputs": [
    {
     "name": "stdout",
     "output_type": "stream",
     "text": [
      "95% доверительный интервал для разности двух долей [-0.03416, 0.00216]\n"
     ]
    }
   ],
   "source": [
    "## Код тут\n",
    "def proportion_confint_dif_ind(sample1, sample2, alpha=0.05):\n",
    "    z=scipy.stats.norm.ppf(1-alpha/2.)\n",
    "    p1=float(sum(sample1)) / len(sample1)\n",
    "    p2=float(sum(sample2)) / len(sample2)\n",
    "    left=(p1-p2) - z *np.sqrt(p1*(1-p1)/len(sample1) + p2*(1-p2)/ len(sample2))\n",
    "    right=(p1-p2) + z *np.sqrt(p1*(1-p1)/len(sample1) + p2*(1-p2)/ len(sample2))\n",
    "    return [round(left, 5), round(right, 5)]\n",
    "print('95% доверительный интервал для разности двух долей',\n",
    "      proportion_confint_dif_ind(click_stat['banner_a'], click_stat['banner_b']))"
   ]
  },
  {
   "cell_type": "markdown",
   "id": "adda94db",
   "metadata": {},
   "source": [
    "### Задание 8"
   ]
  },
  {
   "cell_type": "markdown",
   "id": "b9f88120",
   "metadata": {},
   "source": [
    "Проведи АБ-тест. Какой баннер лучше? H0 - Старый баннер или H1 - новый баннер.\n",
    "В этом тебе поможем функция [z-критерия](code-samples/stats.py)."
   ]
  },
  {
   "cell_type": "markdown",
   "id": "771558cb",
   "metadata": {},
   "source": [
    "$$Z({X_1, X_2}) =  \\frac{p_a - p_b}{\\sqrt{P(1 - P)(\\frac{1}{n_a} + \\frac{1}{n_b})}}$$\n",
    "$$P = \\frac{p_a{n_a} + p_b{n_b}}{{n_a} + {n_b}} $$\n",
    "\n",
    "$p_a, p_b = \\frac{∑кликов}{n}$, n - общее количество кликов по баннеру\n",
    "\n",
    "$n_a$ - общее количество кликов по баннеру а\n",
    "\n",
    "$n_b$ - общее количество кликов по баннеру b"
   ]
  },
  {
   "cell_type": "code",
   "execution_count": 17,
   "id": "c4349f01",
   "metadata": {},
   "outputs": [],
   "source": [
    "def z_stat(sample1, sample2):\n",
    "    n_a = len(sample1)\n",
    "    n_b = len(sample2)\n",
    "\n",
    "    p_a = float(sum(sample1)) / n_a\n",
    "    p_b = float(sum(sample2)) / n_b \n",
    "    P = float(p_a * n_a + p_b * n_b) / (n_a + n_b)\n",
    "  \n",
    "    return (p_a - p_b) / np.sqrt(P * (1 - P) * (1. / n_a + 1. / n_b))"
   ]
  },
  {
   "cell_type": "code",
   "execution_count": 18,
   "id": "b12d59dd",
   "metadata": {},
   "outputs": [
    {
     "name": "stdout",
     "output_type": "stream",
     "text": [
      " Гипотеза H0 опровергнута\n",
      "Гипотеза H1 подтверждена (новый баннер лучше).\n"
     ]
    }
   ],
   "source": [
    "## Код тут\n",
    "alpha = 0.05\n",
    "z=scipy.stats.norm.ppf(1-alpha/2.)\n",
    "check=z_stat(click_stat['banner_a'], click_stat['banner_b'])\n",
    "if check > z:\n",
    "    print('Гипотеза H0 подтверждена (старый баннер лучше).')\n",
    "else:\n",
    "    print(' Гипотеза H0 опровергнута')\n",
    "    \n",
    "check1=z_stat(click_stat['banner_b'], click_stat['banner_a'])\n",
    "if check1 > 0:\n",
    "    print('Гипотеза H1 подтверждена (новый баннер лучше).')\n",
    "else:\n",
    "    print(' Гипотеза H1 опровергнута')"
   ]
  },
  {
   "cell_type": "markdown",
   "id": "c33139fd",
   "metadata": {},
   "source": [
    "## Корреляции"
   ]
  },
  {
   "cell_type": "markdown",
   "id": "8a4a0430",
   "metadata": {},
   "source": [
    "### Задание 9"
   ]
  },
  {
   "cell_type": "markdown",
   "id": "02de20e4",
   "metadata": {},
   "source": [
    "Прочитай про корреляции Пирсона и Спирмена. Узнай какие связи между выборками они способны находить. По сгенерированным выборкам посчитай коррелицию Пирсона и Спирмена для выборок `x-y1`, `x-y2`, `x-y3`. Отрисуй выборки в формате, как показано ниже:\n",
    "<img src=\"../misc/images/corr.png\">"
   ]
  },
  {
   "cell_type": "markdown",
   "id": "313a15d6",
   "metadata": {},
   "source": [
    "Объясни, почему получается такое значение корреляций."
   ]
  },
  {
   "cell_type": "code",
   "execution_count": 19,
   "id": "5d260fe7",
   "metadata": {},
   "outputs": [],
   "source": [
    "x = np.linspace(-10,10,100)\n",
    "y1 = x ** 2\n",
    "y2 = -x **2\n",
    "y3 = np.log(x ** 2 + 1)"
   ]
  },
  {
   "cell_type": "code",
   "execution_count": 20,
   "id": "5bf4ed0a",
   "metadata": {},
   "outputs": [
    {
     "data": {
      "image/png": "[encoded data removed]",
      "text/plain": [
       "<Figure size 1300x500 with 3 Axes>"
      ]
     },
     "metadata": {},
     "output_type": "display_data"
    }
   ],
   "source": [
    "## Код тут \n",
    "fig, (ax1, ax2, ax3)=plt.subplots(1, 3, figsize=(13,5))\n",
    "ax1.scatter(x, y1, s=1)\n",
    "ax1.set_title('Pearson correlation = {}\\nSpearman correlation = {}'.\n",
    "              format(round(st.pearsonr(x,y1)[0], 2), round(st.spearmanr(x,y1)[0], 2)))\n",
    "ax2.scatter(x, y2, s=1)\n",
    "ax2.set_title('Pearson correlation = {}\\nSpearman correlation = {}'.\n",
    "              format(round(st.pearsonr(x,y2)[0], 2), round(st.spearmanr(x,y2)[0], 2)))\n",
    "ax3.scatter(x, y3, s=1)\n",
    "ax3.set_title('Pearson correlation = {}\\nSpearman correlation = {}'.\n",
    "              format(round(st.pearsonr(x,y3)[0], 2), round(st.spearmanr(x,y3)[0], 2)))\n",
    "plt.show()"
   ]
  },
  {
   "cell_type": "markdown",
   "id": "4917b9fb",
   "metadata": {},
   "source": [
    "### Задание 10"
   ]
  },
  {
   "cell_type": "markdown",
   "id": "8dc4910b",
   "metadata": {},
   "source": [
    "Построй облако из тысячи точек c помощью приведенного кода.\n",
    "Выведи значения коэффициентов корреляции.\n",
    "Случайным образом выбери четыре точки. Каждую из точек передвигать в правый верхний угол относительно облака точек \n",
    "(тем самым создавая выброс):\n",
    "значения по оси х 25, 50, 150, 650\n",
    "по оси y 20, 40, 60, 80.\n",
    "Выводи на графике перемещения точек.\n",
    "Для каждого расстояния рассчитай коэффициент корреляции Пирсона и Спирмана.\n",
    "Какая корреляция больше устойчива к выбросам?"
   ]
  },
  {
   "cell_type": "code",
   "execution_count": 21,
   "id": "7269946b",
   "metadata": {},
   "outputs": [],
   "source": [
    "step = np.linspace(-10, 0, 1000)\n",
    "x = -step + np.random.randn(1000) * 0.2\n",
    "y = step + np.random.randn(1000)* 0.2"
   ]
  },
  {
   "cell_type": "code",
   "execution_count": 22,
   "id": "5d5100ee",
   "metadata": {},
   "outputs": [
    {
     "data": {
      "image/png": "[encoded data removed]",
      "text/plain": [
       "<Figure size 640x480 with 1 Axes>"
      ]
     },
     "metadata": {},
     "output_type": "display_data"
    }
   ],
   "source": [
    "## Код тут\n",
    "p1,s1=st.pearsonr(x,y)[0], st.spearmanr(x,y)[0]\n",
    "fig, ax=plt.subplots()\n",
    "ax.scatter(x,y,s=2,color='r')\n",
    "ax.set_title('Облако из тысячи точек\\nКорреляция Пирсона={}\\nКорреляция Спирмена={}'.format(round(p1,2), round(s1,2)))\n",
    "plt.show()"
   ]
  },
  {
   "cell_type": "code",
   "execution_count": 23,
   "id": "c5a0bf7b",
   "metadata": {},
   "outputs": [
    {
     "data": {
      "image/png": "[encoded data removed]",
      "text/plain": [
       "<Figure size 1400x500 with 4 Axes>"
      ]
     },
     "metadata": {},
     "output_type": "display_data"
    }
   ],
   "source": [
    "n_range=np.random.randint(0,1000,4)\n",
    "x_range=[25, 50, 150, 650]\n",
    "y_range=[20, 40, 60, 80]\n",
    "fig, ax=plt.subplots(1,4, figsize=(14,5))\n",
    "for n in range(4):\n",
    "    x1,y1=x.copy(), y.copy()\n",
    "    ax[n].scatter(x1,y1,color='r')\n",
    "    ax[n].plot([x1[n_range[n]], x_range[n]], [y1[n_range[n]], y_range[n]], 'o-b')\n",
    "    x1[n_range[n]]=x_range[n]\n",
    "    y1[n_range[n]]=y_range[n]\n",
    "    p1,s1=st.pearsonr(x1,y1)[0], st.spearmanr(x1,y1)[0]\n",
    "    ax[n].set_title('Выброс {}\\nКорреляция Пирсона={}\\nКорреляция Спирмена={}'.\n",
    "                    format(n+1, round(p1,2), round(s1,2)))\n",
    "plt.show()"
   ]
  },
  {
   "cell_type": "markdown",
   "id": "0f392c64",
   "metadata": {},
   "source": [
    "Корреляция Спирмена более устойчива к выбросам"
   ]
  }
 ],
 "metadata": {
  "kernelspec": {
   "display_name": "Python 3 (ipykernel)",
   "language": "python",
   "name": "python3"
  },
  "language_info": {
   "codemirror_mode": {
    "name": "ipython",
    "version": 3
   },
   "file_extension": ".py",
   "mimetype": "text/x-python",
   "name": "python",
   "nbconvert_exporter": "python",
   "pygments_lexer": "ipython3",
   "version": "3.11.3"
  }
 },
 "nbformat": 4,
 "nbformat_minor": 5
}
