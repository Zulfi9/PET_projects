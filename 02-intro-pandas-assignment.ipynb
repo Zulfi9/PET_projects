{
 "cells": [
  {
   "cell_type": "markdown",
   "metadata": {
    "tags": []
   },
   "source": [
    "# Задание"
   ]
  },
  {
   "cell_type": "code",
   "execution_count": 2,
   "metadata": {},
   "outputs": [],
   "source": [
    "import pandas as pd"
   ]
  },
  {
   "cell_type": "markdown",
   "metadata": {},
   "source": [
    "## Task 1"
   ]
  },
  {
   "cell_type": "markdown",
   "metadata": {},
   "source": [
    "Узнай самый часто встречаемый возраст респондентов"
   ]
  },
  {
   "cell_type": "code",
   "execution_count": 4,
   "metadata": {
    "tags": []
   },
   "outputs": [
    {
     "name": "stdout",
     "output_type": "stream",
     "text": [
      "Cамый часто встречаемый возраст респондентов - 18-21\n"
     ]
    }
   ],
   "source": [
    "# Код тут\n",
    "import pandas as pd\n",
    "pd.set_option('display.max_rows', 10)\n",
    "data = pd.read_csv('../datasets/kaggle_survey_2022_responses.csv', low_memory=False) # Указываем путь к файлу\n",
    "age = data.describe().iloc [2]['Q2'] #берем самый частовстречаемый возраст из описания таблицы\n",
    "print('Cамый часто встречаемый возраст респондентов -', age)"
   ]
  },
  {
   "cell_type": "markdown",
   "metadata": {},
   "source": [
    "## Task 2"
   ]
  },
  {
   "cell_type": "markdown",
   "metadata": {},
   "source": [
    "Посчитай долю женщин среди русских участников опроса, которые уже не студенты. Результат округли до двух цифр после запятой"
   ]
  },
  {
   "cell_type": "code",
   "execution_count": 6,
   "metadata": {},
   "outputs": [
    {
     "name": "stdout",
     "output_type": "stream",
     "text": [
      "Доля женщин среди русских участников опроса, которые уже не студенты = 0.24\n"
     ]
    }
   ],
   "source": [
    "# Код тут\n",
    "import pandas as pd\n",
    "pd.set_option('display.max_rows', 30)\n",
    "data = pd.read_csv('../datasets/kaggle_survey_2022_responses.csv', low_memory=False) # Указываем путь к файлу\n",
    "\n",
    "# Q4 - страна, Q5 - проверка на студента, Q3 - пол\n",
    "data2 = data[\n",
    "    (data['Q4'].str.contains('Russia')) & \n",
    "    (data['Q5'] == 'No')]\n",
    "data3 = data2['Q3'].value_counts()\n",
    "x = round(data3.loc['Woman'] / data3.sum(), 2) # количество женщин к общему количеству участников\n",
    "print ('Доля женщин среди русских участников опроса, которые уже не студенты =', x)\n"
   ]
  },
  {
   "cell_type": "markdown",
   "metadata": {},
   "source": [
    "## Task 3"
   ]
  },
  {
   "cell_type": "markdown",
   "metadata": {},
   "source": [
    "Найди среднее время заполнения опроса в **минутах**. Результат округли до двух знаков после запятой"
   ]
  },
  {
   "cell_type": "code",
   "execution_count": 7,
   "metadata": {},
   "outputs": [
    {
     "name": "stdout",
     "output_type": "stream",
     "text": [
      "Cреднее время заполнения опроса в минутах = 168.17\n"
     ]
    }
   ],
   "source": [
    "# Код тут\n",
    "import pandas as pd\n",
    "pd.set_option('display.max_rows', 30)\n",
    "data = pd.read_csv('../datasets/kaggle_survey_2022_responses.csv', low_memory=False) # Указываем путь к файлу\n",
    "data2 = data['Duration (in seconds)'].drop(0) # удаляем вопрос\n",
    "data2 = data2.astype(int) # меняем тип на целочисленный\n",
    "average = round(data2.mean() / 60, 2) #считаем среднее и переводим в минуты\n",
    "print ('Cреднее время заполнения опроса в минутах =', average)"
   ]
  },
  {
   "cell_type": "markdown",
   "metadata": {},
   "source": [
    "## Task 4"
   ]
  },
  {
   "cell_type": "markdown",
   "metadata": {},
   "source": [
    "Выведи топ-3 образовательных курса, которые указали респонденты. P.S Это вопрос Q6"
   ]
  },
  {
   "cell_type": "code",
   "execution_count": 31,
   "metadata": {},
   "outputs": [
    {
     "name": "stdout",
     "output_type": "stream",
     "text": [
      "Топ-3 образовательных курса, которые указали респонденты - это ['Coursera', 'University Courses (resulting in a university degree)', 'Kaggle Learn Courses']\n"
     ]
    }
   ],
   "source": [
    "# Код тут\n",
    "import pandas as pd\n",
    "pd.set_option('display.max_rows', 30)\n",
    "data = pd.read_csv('../datasets/kaggle_survey_2022_responses.csv', low_memory=False) # Указываем путь к файлу\n",
    "q6_columns = [col for col in data.columns if col.startswith('Q6')] # таблица их всех Q6\n",
    "platforms = data[q6_columns].melt(var_name='вопрос', value_vars=q6_columns) # объединение Q6 в одну колонку\n",
    "res = platforms['value'].value_counts().iloc[:3]  # сортировка значений по убыванию\n",
    "print('Топ-3 образовательных курса, которые указали респонденты - это', list(res.index))"
   ]
  },
  {
   "cell_type": "markdown",
   "metadata": {},
   "source": [
    "## Task 5"
   ]
  },
  {
   "cell_type": "markdown",
   "metadata": {},
   "source": [
    "Узнай топ-5 языков программирования, которые регулярно используют Data Scientists в своей работе"
   ]
  },
  {
   "cell_type": "code",
   "execution_count": 1,
   "metadata": {},
   "outputs": [
    {
     "name": "stdout",
     "output_type": "stream",
     "text": [
      "Топ-5 языков программирования, которые регулярно используют \"Data Scientists\" - это ['Python', 'SQL', 'R', 'Bash', 'Javascript']\n"
     ]
    }
   ],
   "source": [
    "# Код тут\n",
    "import pandas as pd\n",
    "data = pd.read_csv('../datasets/kaggle_survey_2022_responses.csv', low_memory=False) # Указываем путь к файлу\n",
    "data.drop(0, inplace=True) # Удаляем вопрос\n",
    "data2 = data[data['Q23'] == 'Data Scientist'] # новый масив только из дата сайнтистов\n",
    "q12_columns = [col for col in data2.columns if col.startswith('Q12')] # таблица их всех Q12 \n",
    "lang = data2[q12_columns].melt(var_name='вопрос', value_vars=q12_columns) # объединение Q12 в одну колонку\n",
    "pop_lang = lang['value'].value_counts().iloc[:5] # сортировка значений по убыванию\n",
    "print('Топ-5 языков программирования, которые регулярно используют \"Data Scientists\" - это', list(pop_lang.index))"
   ]
  },
  {
   "cell_type": "markdown",
   "metadata": {},
   "source": [
    "## Task 6"
   ]
  },
  {
   "cell_type": "markdown",
   "metadata": {},
   "source": [
    "Узнай средний доход среди 'Data Scientist' специалистов и средний доход среди 'Machine Learning/ MLops Engineer' \\\n",
    "Т.к. в колонке Q29 указан промежуток, то возьми среднее значение из промежутка. \n",
    "\n",
    "Например: \n",
    "- '15,000-19,999' - 17500, \n",
    "- '125,000-149,999' - 137500. \n",
    "- \\> $1,000,000 - оставляем 1000000\n",
    "\n",
    "Средние доход **округли до целого.**"
   ]
  },
  {
   "cell_type": "code",
   "execution_count": 2,
   "metadata": {},
   "outputs": [
    {
     "name": "stdout",
     "output_type": "stream",
     "text": [
      "Средний доход среди Data Scientist специалистов =  70337\n",
      "Cредний доход среди Machine Learning/ MLops Engineer =  67437\n"
     ]
    }
   ],
   "source": [
    "# Код тут\n",
    "import pandas as pd\n",
    "#pd.set_option('display.max_rows', 30)\n",
    "data = pd.read_csv('../datasets/kaggle_survey_2022_responses.csv', low_memory=False) # Указываем путь к файлу\n",
    "data1 = data.drop(0) # Удаляем вопрос\n",
    "\n",
    "# Удаляем лишние символы из столбцов зп\n",
    "data1['Q29'] = data1['Q29'].str.replace('>','1000000-')\n",
    "data1['Q29'] = data1['Q29'].str.replace('$','')\n",
    "data1['Q29'] = data1['Q29'].str.replace(',','')\n",
    "\n",
    "# Разделяем столбец на два через разделитель -\n",
    "data1['Q29_1']=data1['Q29'].str.split('-').str.get(0)\n",
    "data1['Q29_2']=data1['Q29'].str.split('-').str.get(1)\n",
    "\n",
    "# Переводим столбцы в числовой формат\n",
    "data1['Q29_1'] = data1['Q29_1'].astype (str).astype (float)\n",
    "data1['Q29_2'] = data1['Q29_2'].astype (str).astype (float)\n",
    "\n",
    "# Считаем среднее\n",
    "data1['Q29m'] = (data1['Q29_1'] + data1['Q29_2'])/2\n",
    "\n",
    "# Вычленяем таблички с интересующими профессиями\n",
    "data_ds = data1[data1['Q23'] == 'Data Scientist']\n",
    "data_ml = data1[data1['Q23'] == 'Machine Learning/ MLops Engineer']\n",
    "\n",
    "# Считаем среднюю зп, округляем до целого и меняем тип на целый\n",
    "ds = int(round(data_ds['Q29m'].mean(), 0))\n",
    "ml = int(round(data_ml['Q29m'].mean(), 0))\n",
    "\n",
    "print('Средний доход среди Data Scientist специалистов = ', ds) \n",
    "print('Cредний доход среди Machine Learning/ MLops Engineer = ', ml)\n"
   ]
  },
  {
   "cell_type": "markdown",
   "metadata": {},
   "source": [
    "## Дополнительно"
   ]
  },
  {
   "cell_type": "markdown",
   "metadata": {},
   "source": [
    "Найди какой-нибудь интересный инсайт из этих данных. Пиши свои интересные инсайты в чат проекта с хэштегом.\n",
    "#инсайт\n",
    "\n",
    "Автор самого интересного инсайта получит p2p баллы. Поверь, они тебе понадобятся"
   ]
  },
  {
   "cell_type": "code",
   "execution_count": 10,
   "metadata": {},
   "outputs": [],
   "source": [
    "# Код тут"
   ]
  }
 ],
 "metadata": {
  "kernelspec": {
   "display_name": "Python 3 (ipykernel)",
   "language": "python",
   "name": "python3"
  },
  "language_info": {
   "codemirror_mode": {
    "name": "ipython",
    "version": 3
   },
   "file_extension": ".py",
   "mimetype": "text/x-python",
   "name": "python",
   "nbconvert_exporter": "python",
   "pygments_lexer": "ipython3",
   "version": "3.11.3"
  }
 },
 "nbformat": 4,
 "nbformat_minor": 4
}
