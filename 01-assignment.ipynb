{
 "cells": [
  {
   "cell_type": "markdown",
   "id": "fffcbb2c-4423-4f1c-bc90-e1ac7fbaa456",
   "metadata": {},
   "source": [
    "# Задания "
   ]
  },
  {
   "cell_type": "markdown",
   "id": "c2d747fe-7b74-43e0-95b3-16525e9846ac",
   "metadata": {},
   "source": [
    "## Task 1"
   ]
  },
  {
   "cell_type": "markdown",
   "id": "2e2f1076-fd27-4222-95e9-d3b7ff8ff36a",
   "metadata": {},
   "source": [
    "Напиши код, который будет решать квадратное уравнение вида\n",
    "$ ax^2 + bx + c = 0, a\\neq0$. \\\n",
    "Для этого понадобится найти дискриминант. Его формула $ D = b^2 − 4ac $"
   ]
  },
  {
   "cell_type": "markdown",
   "id": "20bf557b-21f9-46fa-b8db-76b7a96526f4",
   "metadata": {},
   "source": [
    "Для начала напиши формулу нахождения корней квадратного уравнения на языке LaTeX\n",
    "\n",
    "$ x = \\frac{-b\\pm \\sqrt D}{2a} $"
   ]
  },
  {
   "cell_type": "markdown",
   "id": "c78b058d-777d-4369-b86d-0c0fc013eba9",
   "metadata": {},
   "source": [
    "Теперь, когда ты вспомнил как находить корни, приступай к написанию функции:\n",
    "- Функция принимает на вход коэффициент a, b, c.\n",
    "- Функция должна возвращать кортеж корней уравнения. \n",
    "- Если корней у уравнения нет, то функция должна вернуть None"
   ]
  },
  {
   "cell_type": "code",
   "execution_count": 2,
   "id": "03b8b371-870b-42cc-8f53-1e8596406894",
   "metadata": {},
   "outputs": [
    {
     "name": "stdout",
     "output_type": "stream",
     "text": [
      "Впиши значение a=1\n",
      "Впиши значение b=-5\n",
      "Впиши значение c=4\n",
      "x1= 4.0 x2= 1.0\n",
      "Введи коэффициенты для квадратного уравнения ax^2+bx+c\n"
     ]
    }
   ],
   "source": [
    "def quadratic_equation (a, b, c):\n",
    "    print (\"Введи коэффициенты для квадратного уравнения ax^2+bx+c\")\n",
    "a = int(input('Впиши значение a=' ))\n",
    "b = int(input('Впиши значение b=' ))\n",
    "c = int(input('Впиши значение c=' ))\n",
    "if a==0:\n",
    "    x1 = -c/b\n",
    "    x2 = None\n",
    "else:\n",
    "        D = b**2 - 4*a*c\n",
    "        if D >= 0:\n",
    "            x1 = (-b + D**0.5)/(2*a)\n",
    "            x2 = (-b - D**0.5)/(2*a)\n",
    "        else:\n",
    "            x1 = None\n",
    "            x2 = None\n",
    "print (\"x1=\", x1, \"x2=\", x2)\n",
    "  \n",
    "quadratic_equation (a, b, c)"
   ]
  },
  {
   "cell_type": "markdown",
   "id": "a8541146-f127-4482-b067-279d50975dac",
   "metadata": {},
   "source": [
    "## Task 2"
   ]
  },
  {
   "cell_type": "markdown",
   "id": "816c48be-0963-4bd6-bd86-c8172eb8968e",
   "metadata": {},
   "source": [
    "Функция, которая на вход принимает cписок случайных чисел, а возвращает уже отсортированный методом Пузырька по возрастанию."
   ]
  },
  {
   "cell_type": "code",
   "execution_count": 4,
   "id": "3fbaf6b3-876f-4ecf-9be6-d26181ee3a48",
   "metadata": {},
   "outputs": [
    {
     "name": "stdout",
     "output_type": "stream",
     "text": [
      "введите начальное число из диапазона случайных чисел: 1\n",
      "введите конечное число из диапазона случайных чисел: 5\n",
      "введите количество чисел в диапазоне: 3\n",
      "[3, 3, 2]\n",
      "[2, 3, 3]\n"
     ]
    }
   ],
   "source": [
    "from random import randint\n",
    "a = int(input('введите начальное число из диапазона случайных чисел: '))\n",
    "b = int(input('введите конечное число из диапазона случайных чисел: '))\n",
    "n = int(input('введите количество чисел в диапазоне: '))\n",
    "lst = [randint(a, b) for i in range(n)]\n",
    "print (lst)\n",
    "for i in range(n-1):\n",
    "    for j in range(n-i-1):\n",
    "        if lst[j] > lst[j+1]:\n",
    "            lst[j], lst[j+1] = lst[j+1], lst[j]\n",
    "print (lst)"
   ]
  },
  {
   "cell_type": "markdown",
   "id": "0026496c-03a8-4fcc-907b-dfb8f3fc0efb",
   "metadata": {},
   "source": [
    "## Task 3"
   ]
  },
  {
   "cell_type": "markdown",
   "id": "688251be-39a3-49ed-9993-a5f9b39f430d",
   "metadata": {},
   "source": [
    "Самое часто встречающееся слово в романе \"Война и Мир\" без учета:\n",
    "   * Пунктуации\n",
    "   * Слов **короче четырех** символов \n",
    "   * 'Стоп-слов', которые приведены в файле в stop_words_russian.txt\n",
    "   \n",
    ">Для решения задачи достаточно использовать стандартные библиотеки Python. \\\n",
    "\n",
    ">Обязательно поделись с пирами в rocket-chat сколько раз у тебя встретилось это слово. Результаты, в зависимости от предобработки, могут чуть отличаться."
   ]
  },
  {
   "cell_type": "code",
   "execution_count": 2,
   "id": "94501d71-ee88-4f78-808d-20e79a5f3707",
   "metadata": {},
   "outputs": [
    {
     "name": "stdout",
     "output_type": "stream",
     "text": [
      "Слово пьер встречается:  1386 раз\n"
     ]
    }
   ],
   "source": [
    "with open('C:/Users/mzkh9/DS 103/DS01-0-master/datasets/war_and_peace.txt', 'r', encoding = 'utf-8') as f:\n",
    "    text = f.read().lower()\n",
    "\n",
    "with open('C:/Users/mzkh9/DS 103/DS01-0-master/datasets/stop_words_russian.txt', 'r', encoding = 'utf-8') as f:\n",
    "    stop_words = f.read()\n",
    "    \n",
    "punctuation = ('.', ',', ';', ':', '...', '\"\"', \"''\", '?', '!', '*', '-', '+', '=')\n",
    "\n",
    "for p in punctuation:\n",
    "    text = text.replace(p, '')\n",
    "    words = text.split()\n",
    "    words = [word for word in words if len(word) >= 4 and word not in stop_words]\n",
    "    word_count = {}\n",
    "\n",
    "for word in words:\n",
    "    if word in word_count:\n",
    "        word_count[word] += 1\n",
    "    else:\n",
    "        word_count[word] = 1\n",
    "\n",
    "most_common_word = max(word_count, key = word_count.get)\n",
    "print('Слово', most_common_word, 'встречается: ', word_count[most_common_word], 'раз')\n",
    "    "
   ]
  },
  {
   "cell_type": "markdown",
   "id": "d4b6f922-7a22-4b38-8529-c92994edd38c",
   "metadata": {},
   "source": [
    "## Task 4"
   ]
  },
  {
   "cell_type": "markdown",
   "id": "c2cef602-ab87-47f8-ab2c-e323442b62f7",
   "metadata": {},
   "source": [
    "Функция для расчета числа Фибоначчи с использованием рекурсивной функции."
   ]
  },
  {
   "cell_type": "code",
   "execution_count": 7,
   "id": "ec1c1860-774d-4583-a44b-bdc30492eead",
   "metadata": {},
   "outputs": [
    {
     "name": "stdout",
     "output_type": "stream",
     "text": [
      "Введите номер в последовательности числе Фибоначчи: 5\n",
      "Число с  номером 5 в последовательности Фибоначчи:  5\n"
     ]
    }
   ],
   "source": [
    "def fib(n):\n",
    "    if n <=2:\n",
    "        return 1\n",
    "    else:\n",
    "        return (fib(n - 1) + fib (n - 2))   \n",
    "n = int(input('Введите номер в последовательности числе Фибоначчи: '))\n",
    "fib(n)\n",
    "print ('Число с  номером', n, 'в последовательности Фибоначчи: ', fib(n))"
   ]
  },
  {
   "cell_type": "markdown",
   "id": "1acc3069-4b1a-4a5c-98e4-055731203d2d",
   "metadata": {},
   "source": [
    "## Task 5"
   ]
  },
  {
   "cell_type": "markdown",
   "id": "944e804e-fb40-4ea2-b931-38b595d3c262",
   "metadata": {},
   "source": [
    "Функция перевода валюты в рубли."
   ]
  },
  {
   "cell_type": "code",
   "execution_count": 1,
   "id": "570cfb71-5cf0-41fc-aae7-cf2b2812eaca",
   "metadata": {},
   "outputs": [
    {
     "name": "stdin",
     "output_type": "stream",
     "text": [
      "Введите валюту  USD\n",
      "Введите объем 952.13\n"
     ]
    },
    {
     "name": "stdout",
     "output_type": "stream",
     "text": [
      "73143.293091\n"
     ]
    }
   ],
   "source": [
    "import requests\n",
    "def convert2RU(currency, value):\n",
    "        req = requests.get('https://www.cbr-xml-daily.ru/daily_json.js').json()\n",
    "        if currency in req['Valute']:\n",
    "            return req['Valute'][currency]['Value']*value\n",
    "currency = input('Введите валюту ')\n",
    "value = float(input ('Введите объем'))\n",
    "print (convert2RU(currency, value))\n"
   ]
  },
  {
   "cell_type": "markdown",
   "id": "fe1396fa-7109-48ad-a255-4d4f622c18a4",
   "metadata": {},
   "source": [
    "## *Task 6. Дополнительное задание"
   ]
  },
  {
   "cell_type": "markdown",
   "id": "71315701-39bd-4759-afd9-7bf20486b4f7",
   "metadata": {},
   "source": [
    "Написание проверки на пaлиндром."
   ]
  },
  {
   "cell_type": "markdown",
   "id": "715fd45b-eb76-4eb5-bbd8-a257035fe892",
   "metadata": {},
   "source": [
    "1. На вход функции _isPalindrome_ подается **число** (int). \\\n",
    "Функция возвращает **True**, если число является палидромом и **False** в противном случае. "
   ]
  },
  {
   "cell_type": "code",
   "execution_count": 9,
   "id": "9f48d9c7-c413-47fb-b692-ce5ad8ed9ec1",
   "metadata": {},
   "outputs": [
    {
     "name": "stdout",
     "output_type": "stream",
     "text": [
      "Введите число для проверки на палиндром: 124\n"
     ]
    },
    {
     "data": {
      "text/plain": [
       "False"
      ]
     },
     "execution_count": 9,
     "metadata": {},
     "output_type": "execute_result"
    }
   ],
   "source": [
    "def isPalindrome(x: int) -> bool:\n",
    "    x = str(x)\n",
    "    return x == x[::-1]\n",
    "x = input ('Введите число для проверки на палиндром: ')\n",
    "isPalindrome(x)"
   ]
  },
  {
   "cell_type": "markdown",
   "id": "e86f6f7c-c3b0-4b92-bb3d-651dcc7d4706",
   "metadata": {},
   "source": [
    "2. Реализация функции без использования перевода числа в строку."
   ]
  },
  {
   "cell_type": "code",
   "execution_count": 10,
   "id": "35cf92fa-04c6-489b-9523-99d78dce4ba1",
   "metadata": {},
   "outputs": [
    {
     "name": "stdout",
     "output_type": "stream",
     "text": [
      "Введите число для проверки на палиндром: 1221\n"
     ]
    },
    {
     "data": {
      "text/plain": [
       "True"
      ]
     },
     "execution_count": 10,
     "metadata": {},
     "output_type": "execute_result"
    }
   ],
   "source": [
    "def isPalindrome_v2(x: int) -> bool:\n",
    "    count = 0 #количество цифр в числе\n",
    "    n = x\n",
    "    # Посчитаем количество цифр в числе:\n",
    "    while n > 1:\n",
    "        count = count+1\n",
    "        n = n/10    \n",
    "# Перевернем число:\n",
    "    a = x\n",
    "    y = 0\n",
    "    c = a % 10 # остаток от деления на 10\n",
    "    for i in range (count, 1, -1):\n",
    "        b = a // (10**(i-1)) #деление на 10 без остатка\n",
    "        y = b * 10**(count-i)+y\n",
    "        a = a - (10**(i-1)) * b\n",
    "    y = y + c * 10**(count-1)\n",
    "    return x == y\n",
    "x = int(input ('Введите число для проверки на палиндром: '))\n",
    "isPalindrome_v2(x)\n",
    "   "
   ]
  }
 ],
 "metadata": {
  "kernelspec": {
   "display_name": "Python 3 (ipykernel)",
   "language": "python",
   "name": "python3"
  },
  "language_info": {
   "codemirror_mode": {
    "name": "ipython",
    "version": 3
   },
   "file_extension": ".py",
   "mimetype": "text/x-python",
   "name": "python",
   "nbconvert_exporter": "python",
   "pygments_lexer": "ipython3",
   "version": "3.11.3"
  }
 },
 "nbformat": 4,
 "nbformat_minor": 5
}
